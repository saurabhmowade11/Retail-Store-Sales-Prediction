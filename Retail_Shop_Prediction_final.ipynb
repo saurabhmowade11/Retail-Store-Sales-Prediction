{
 "cells": [
  {
   "cell_type": "code",
   "execution_count": 1,
   "id": "6a9dd8ae",
   "metadata": {},
   "outputs": [],
   "source": [
    "import numpy as np\n",
    "import pandas as pd\n",
    "import matplotlib.pyplot as plt\n",
    "%matplotlib inline\n",
    "import seaborn as sns\n",
    "sns.set()\n",
    "import warnings\n",
    "warnings.filterwarnings(\"ignore\")"
   ]
  },
  {
   "cell_type": "code",
   "execution_count": 3,
   "id": "6d213e3f",
   "metadata": {},
   "outputs": [],
   "source": [
    "hoffman=pd.read_csv(\"Hoffman_Stores_Data.csv\")"
   ]
  },
  {
   "cell_type": "code",
   "execution_count": 4,
   "id": "e6b5a6fb",
   "metadata": {},
   "outputs": [],
   "source": [
    "store=pd.read_csv(\"store.csv\")"
   ]
  },
  {
   "cell_type": "markdown",
   "id": "1300011b",
   "metadata": {},
   "source": [
    "# Hoffman Dataset Analysis"
   ]
  },
  {
   "cell_type": "code",
   "execution_count": 5,
   "id": "09f071ba",
   "metadata": {},
   "outputs": [
    {
     "data": {
      "text/html": [
       "<div>\n",
       "<style scoped>\n",
       "    .dataframe tbody tr th:only-of-type {\n",
       "        vertical-align: middle;\n",
       "    }\n",
       "\n",
       "    .dataframe tbody tr th {\n",
       "        vertical-align: top;\n",
       "    }\n",
       "\n",
       "    .dataframe thead th {\n",
       "        text-align: right;\n",
       "    }\n",
       "</style>\n",
       "<table border=\"1\" class=\"dataframe\">\n",
       "  <thead>\n",
       "    <tr style=\"text-align: right;\">\n",
       "      <th></th>\n",
       "      <th>Store</th>\n",
       "      <th>DayOfWeek</th>\n",
       "      <th>Date</th>\n",
       "      <th>Sales</th>\n",
       "      <th>Customers</th>\n",
       "      <th>Open</th>\n",
       "      <th>Promo</th>\n",
       "      <th>StateHoliday</th>\n",
       "      <th>SchoolHoliday</th>\n",
       "    </tr>\n",
       "  </thead>\n",
       "  <tbody>\n",
       "    <tr>\n",
       "      <th>0</th>\n",
       "      <td>1</td>\n",
       "      <td>5</td>\n",
       "      <td>31-07-2015</td>\n",
       "      <td>5263</td>\n",
       "      <td>555</td>\n",
       "      <td>1</td>\n",
       "      <td>1</td>\n",
       "      <td>0</td>\n",
       "      <td>1</td>\n",
       "    </tr>\n",
       "    <tr>\n",
       "      <th>1</th>\n",
       "      <td>2</td>\n",
       "      <td>5</td>\n",
       "      <td>31-07-2015</td>\n",
       "      <td>6064</td>\n",
       "      <td>625</td>\n",
       "      <td>1</td>\n",
       "      <td>1</td>\n",
       "      <td>0</td>\n",
       "      <td>1</td>\n",
       "    </tr>\n",
       "    <tr>\n",
       "      <th>2</th>\n",
       "      <td>3</td>\n",
       "      <td>5</td>\n",
       "      <td>31-07-2015</td>\n",
       "      <td>8314</td>\n",
       "      <td>821</td>\n",
       "      <td>1</td>\n",
       "      <td>1</td>\n",
       "      <td>0</td>\n",
       "      <td>1</td>\n",
       "    </tr>\n",
       "    <tr>\n",
       "      <th>3</th>\n",
       "      <td>4</td>\n",
       "      <td>5</td>\n",
       "      <td>31-07-2015</td>\n",
       "      <td>13995</td>\n",
       "      <td>1498</td>\n",
       "      <td>1</td>\n",
       "      <td>1</td>\n",
       "      <td>0</td>\n",
       "      <td>1</td>\n",
       "    </tr>\n",
       "    <tr>\n",
       "      <th>4</th>\n",
       "      <td>5</td>\n",
       "      <td>5</td>\n",
       "      <td>31-07-2015</td>\n",
       "      <td>4822</td>\n",
       "      <td>559</td>\n",
       "      <td>1</td>\n",
       "      <td>1</td>\n",
       "      <td>0</td>\n",
       "      <td>1</td>\n",
       "    </tr>\n",
       "  </tbody>\n",
       "</table>\n",
       "</div>"
      ],
      "text/plain": [
       "   Store  DayOfWeek        Date  Sales  Customers  Open  Promo StateHoliday  \\\n",
       "0      1          5  31-07-2015   5263        555     1      1            0   \n",
       "1      2          5  31-07-2015   6064        625     1      1            0   \n",
       "2      3          5  31-07-2015   8314        821     1      1            0   \n",
       "3      4          5  31-07-2015  13995       1498     1      1            0   \n",
       "4      5          5  31-07-2015   4822        559     1      1            0   \n",
       "\n",
       "   SchoolHoliday  \n",
       "0              1  \n",
       "1              1  \n",
       "2              1  \n",
       "3              1  \n",
       "4              1  "
      ]
     },
     "execution_count": 5,
     "metadata": {},
     "output_type": "execute_result"
    }
   ],
   "source": [
    "hoffman.head()"
   ]
  },
  {
   "cell_type": "code",
   "execution_count": 7,
   "id": "46e0e545",
   "metadata": {},
   "outputs": [
    {
     "data": {
      "text/plain": [
       "(1017209, 9)"
      ]
     },
     "execution_count": 7,
     "metadata": {},
     "output_type": "execute_result"
    }
   ],
   "source": [
    "hoffman.shape"
   ]
  },
  {
   "cell_type": "code",
   "execution_count": 8,
   "id": "3388c198",
   "metadata": {},
   "outputs": [
    {
     "data": {
      "text/html": [
       "<div>\n",
       "<style scoped>\n",
       "    .dataframe tbody tr th:only-of-type {\n",
       "        vertical-align: middle;\n",
       "    }\n",
       "\n",
       "    .dataframe tbody tr th {\n",
       "        vertical-align: top;\n",
       "    }\n",
       "\n",
       "    .dataframe thead th {\n",
       "        text-align: right;\n",
       "    }\n",
       "</style>\n",
       "<table border=\"1\" class=\"dataframe\">\n",
       "  <thead>\n",
       "    <tr style=\"text-align: right;\">\n",
       "      <th></th>\n",
       "      <th>Store</th>\n",
       "      <th>DayOfWeek</th>\n",
       "      <th>Sales</th>\n",
       "      <th>Customers</th>\n",
       "      <th>Open</th>\n",
       "      <th>Promo</th>\n",
       "      <th>SchoolHoliday</th>\n",
       "    </tr>\n",
       "  </thead>\n",
       "  <tbody>\n",
       "    <tr>\n",
       "      <th>count</th>\n",
       "      <td>1.017209e+06</td>\n",
       "      <td>1.017209e+06</td>\n",
       "      <td>1.017209e+06</td>\n",
       "      <td>1.017209e+06</td>\n",
       "      <td>1.017209e+06</td>\n",
       "      <td>1.017209e+06</td>\n",
       "      <td>1.017209e+06</td>\n",
       "    </tr>\n",
       "    <tr>\n",
       "      <th>mean</th>\n",
       "      <td>5.584297e+02</td>\n",
       "      <td>3.998341e+00</td>\n",
       "      <td>5.773819e+03</td>\n",
       "      <td>6.331459e+02</td>\n",
       "      <td>8.301067e-01</td>\n",
       "      <td>3.815145e-01</td>\n",
       "      <td>1.786467e-01</td>\n",
       "    </tr>\n",
       "    <tr>\n",
       "      <th>std</th>\n",
       "      <td>3.219087e+02</td>\n",
       "      <td>1.997391e+00</td>\n",
       "      <td>3.849926e+03</td>\n",
       "      <td>4.644117e+02</td>\n",
       "      <td>3.755392e-01</td>\n",
       "      <td>4.857586e-01</td>\n",
       "      <td>3.830564e-01</td>\n",
       "    </tr>\n",
       "    <tr>\n",
       "      <th>min</th>\n",
       "      <td>1.000000e+00</td>\n",
       "      <td>1.000000e+00</td>\n",
       "      <td>0.000000e+00</td>\n",
       "      <td>0.000000e+00</td>\n",
       "      <td>0.000000e+00</td>\n",
       "      <td>0.000000e+00</td>\n",
       "      <td>0.000000e+00</td>\n",
       "    </tr>\n",
       "    <tr>\n",
       "      <th>25%</th>\n",
       "      <td>2.800000e+02</td>\n",
       "      <td>2.000000e+00</td>\n",
       "      <td>3.727000e+03</td>\n",
       "      <td>4.050000e+02</td>\n",
       "      <td>1.000000e+00</td>\n",
       "      <td>0.000000e+00</td>\n",
       "      <td>0.000000e+00</td>\n",
       "    </tr>\n",
       "    <tr>\n",
       "      <th>50%</th>\n",
       "      <td>5.580000e+02</td>\n",
       "      <td>4.000000e+00</td>\n",
       "      <td>5.744000e+03</td>\n",
       "      <td>6.090000e+02</td>\n",
       "      <td>1.000000e+00</td>\n",
       "      <td>0.000000e+00</td>\n",
       "      <td>0.000000e+00</td>\n",
       "    </tr>\n",
       "    <tr>\n",
       "      <th>75%</th>\n",
       "      <td>8.380000e+02</td>\n",
       "      <td>6.000000e+00</td>\n",
       "      <td>7.856000e+03</td>\n",
       "      <td>8.370000e+02</td>\n",
       "      <td>1.000000e+00</td>\n",
       "      <td>1.000000e+00</td>\n",
       "      <td>0.000000e+00</td>\n",
       "    </tr>\n",
       "    <tr>\n",
       "      <th>max</th>\n",
       "      <td>1.115000e+03</td>\n",
       "      <td>7.000000e+00</td>\n",
       "      <td>4.155100e+04</td>\n",
       "      <td>7.388000e+03</td>\n",
       "      <td>1.000000e+00</td>\n",
       "      <td>1.000000e+00</td>\n",
       "      <td>1.000000e+00</td>\n",
       "    </tr>\n",
       "  </tbody>\n",
       "</table>\n",
       "</div>"
      ],
      "text/plain": [
       "              Store     DayOfWeek         Sales     Customers          Open  \\\n",
       "count  1.017209e+06  1.017209e+06  1.017209e+06  1.017209e+06  1.017209e+06   \n",
       "mean   5.584297e+02  3.998341e+00  5.773819e+03  6.331459e+02  8.301067e-01   \n",
       "std    3.219087e+02  1.997391e+00  3.849926e+03  4.644117e+02  3.755392e-01   \n",
       "min    1.000000e+00  1.000000e+00  0.000000e+00  0.000000e+00  0.000000e+00   \n",
       "25%    2.800000e+02  2.000000e+00  3.727000e+03  4.050000e+02  1.000000e+00   \n",
       "50%    5.580000e+02  4.000000e+00  5.744000e+03  6.090000e+02  1.000000e+00   \n",
       "75%    8.380000e+02  6.000000e+00  7.856000e+03  8.370000e+02  1.000000e+00   \n",
       "max    1.115000e+03  7.000000e+00  4.155100e+04  7.388000e+03  1.000000e+00   \n",
       "\n",
       "              Promo  SchoolHoliday  \n",
       "count  1.017209e+06   1.017209e+06  \n",
       "mean   3.815145e-01   1.786467e-01  \n",
       "std    4.857586e-01   3.830564e-01  \n",
       "min    0.000000e+00   0.000000e+00  \n",
       "25%    0.000000e+00   0.000000e+00  \n",
       "50%    0.000000e+00   0.000000e+00  \n",
       "75%    1.000000e+00   0.000000e+00  \n",
       "max    1.000000e+00   1.000000e+00  "
      ]
     },
     "execution_count": 8,
     "metadata": {},
     "output_type": "execute_result"
    }
   ],
   "source": [
    "hoffman.describe()"
   ]
  },
  {
   "cell_type": "code",
   "execution_count": 9,
   "id": "eee44002",
   "metadata": {},
   "outputs": [
    {
     "name": "stdout",
     "output_type": "stream",
     "text": [
      "<class 'pandas.core.frame.DataFrame'>\n",
      "RangeIndex: 1017209 entries, 0 to 1017208\n",
      "Data columns (total 9 columns):\n",
      " #   Column         Non-Null Count    Dtype \n",
      "---  ------         --------------    ----- \n",
      " 0   Store          1017209 non-null  int64 \n",
      " 1   DayOfWeek      1017209 non-null  int64 \n",
      " 2   Date           1017209 non-null  object\n",
      " 3   Sales          1017209 non-null  int64 \n",
      " 4   Customers      1017209 non-null  int64 \n",
      " 5   Open           1017209 non-null  int64 \n",
      " 6   Promo          1017209 non-null  int64 \n",
      " 7   StateHoliday   1017209 non-null  object\n",
      " 8   SchoolHoliday  1017209 non-null  int64 \n",
      "dtypes: int64(7), object(2)\n",
      "memory usage: 69.8+ MB\n"
     ]
    }
   ],
   "source": [
    "hoffman.info()"
   ]
  },
  {
   "cell_type": "code",
   "execution_count": 10,
   "id": "0732cc84",
   "metadata": {},
   "outputs": [
    {
     "data": {
      "text/plain": [
       "Store            0\n",
       "DayOfWeek        0\n",
       "Date             0\n",
       "Sales            0\n",
       "Customers        0\n",
       "Open             0\n",
       "Promo            0\n",
       "StateHoliday     0\n",
       "SchoolHoliday    0\n",
       "dtype: int64"
      ]
     },
     "execution_count": 10,
     "metadata": {},
     "output_type": "execute_result"
    }
   ],
   "source": [
    "hoffman.isnull().sum()"
   ]
  },
  {
   "cell_type": "code",
   "execution_count": 11,
   "id": "5ffce863",
   "metadata": {},
   "outputs": [],
   "source": [
    "#Mapping the values of StateHoliday \n",
    "hoffman['StateHoliday']=hoffman['StateHoliday'].map({0:0,\"0\":0,\"a\":1,\"b\":1,\"c\":1})"
   ]
  },
  {
   "cell_type": "code",
   "execution_count": 12,
   "id": "2d96fcc8",
   "metadata": {},
   "outputs": [
    {
     "data": {
      "text/plain": [
       "0    986159\n",
       "1     31050\n",
       "Name: StateHoliday, dtype: int64"
      ]
     },
     "execution_count": 12,
     "metadata": {},
     "output_type": "execute_result"
    }
   ],
   "source": [
    "hoffman['StateHoliday'].value_counts()"
   ]
  },
  {
   "cell_type": "code",
   "execution_count": 13,
   "id": "1d0a0ac5",
   "metadata": {},
   "outputs": [],
   "source": [
    "#Extracting features from Date columns\n",
    "from datetime import datetime\n",
    "hoffman['year'] = pd.DatetimeIndex(hoffman['Date']).year\n",
    "hoffman['month'] = pd.DatetimeIndex(hoffman['Date']).month\n",
    "hoffman['date'] = pd.DatetimeIndex(hoffman['Date']).day"
   ]
  },
  {
   "cell_type": "code",
   "execution_count": 14,
   "id": "2a22293e",
   "metadata": {},
   "outputs": [
    {
     "data": {
      "text/plain": [
       "array([2015, 2014, 2013], dtype=int64)"
      ]
     },
     "execution_count": 14,
     "metadata": {},
     "output_type": "execute_result"
    }
   ],
   "source": [
    "hoffman.year.unique()"
   ]
  },
  {
   "cell_type": "code",
   "execution_count": 15,
   "id": "ab21eaf7",
   "metadata": {},
   "outputs": [
    {
     "data": {
      "text/plain": [
       "array([ 7, 12, 11, 10,  9,  8,  6,  5,  4,  3,  2,  1], dtype=int64)"
      ]
     },
     "execution_count": 15,
     "metadata": {},
     "output_type": "execute_result"
    }
   ],
   "source": [
    "hoffman.month.unique()"
   ]
  },
  {
   "cell_type": "code",
   "execution_count": 16,
   "id": "24baf42d",
   "metadata": {},
   "outputs": [
    {
     "data": {
      "text/plain": [
       "array([31, 30, 29, 28, 27, 26, 25, 24, 23, 22, 21, 20, 19, 18, 17, 16, 15,\n",
       "       14, 13,  7,  6,  5,  4,  3,  2,  1, 12, 11, 10,  9,  8],\n",
       "      dtype=int64)"
      ]
     },
     "execution_count": 16,
     "metadata": {},
     "output_type": "execute_result"
    }
   ],
   "source": [
    "hoffman.date.unique()"
   ]
  },
  {
   "cell_type": "code",
   "execution_count": 18,
   "id": "9250dd21",
   "metadata": {},
   "outputs": [
    {
     "data": {
      "text/plain": [
       "1115"
      ]
     },
     "execution_count": 18,
     "metadata": {},
     "output_type": "execute_result"
    }
   ],
   "source": [
    "hoffman.Store.nunique()"
   ]
  },
  {
   "cell_type": "markdown",
   "id": "7ee637e6",
   "metadata": {},
   "source": [
    "# Store Dataset Analysis"
   ]
  },
  {
   "cell_type": "code",
   "execution_count": 19,
   "id": "418fd9cd",
   "metadata": {},
   "outputs": [
    {
     "data": {
      "text/html": [
       "<div>\n",
       "<style scoped>\n",
       "    .dataframe tbody tr th:only-of-type {\n",
       "        vertical-align: middle;\n",
       "    }\n",
       "\n",
       "    .dataframe tbody tr th {\n",
       "        vertical-align: top;\n",
       "    }\n",
       "\n",
       "    .dataframe thead th {\n",
       "        text-align: right;\n",
       "    }\n",
       "</style>\n",
       "<table border=\"1\" class=\"dataframe\">\n",
       "  <thead>\n",
       "    <tr style=\"text-align: right;\">\n",
       "      <th></th>\n",
       "      <th>Store</th>\n",
       "      <th>StoreType</th>\n",
       "      <th>Assortment</th>\n",
       "      <th>CompetitionDistance</th>\n",
       "      <th>CompetitionOpenSinceMonth</th>\n",
       "      <th>CompetitionOpenSinceYear</th>\n",
       "      <th>Promo2</th>\n",
       "      <th>Promo2SinceWeek</th>\n",
       "      <th>Promo2SinceYear</th>\n",
       "      <th>PromoInterval</th>\n",
       "    </tr>\n",
       "  </thead>\n",
       "  <tbody>\n",
       "    <tr>\n",
       "      <th>0</th>\n",
       "      <td>1</td>\n",
       "      <td>c</td>\n",
       "      <td>a</td>\n",
       "      <td>1270.0</td>\n",
       "      <td>9.0</td>\n",
       "      <td>2008.0</td>\n",
       "      <td>0</td>\n",
       "      <td>NaN</td>\n",
       "      <td>NaN</td>\n",
       "      <td>NaN</td>\n",
       "    </tr>\n",
       "    <tr>\n",
       "      <th>1</th>\n",
       "      <td>2</td>\n",
       "      <td>a</td>\n",
       "      <td>a</td>\n",
       "      <td>570.0</td>\n",
       "      <td>11.0</td>\n",
       "      <td>2007.0</td>\n",
       "      <td>1</td>\n",
       "      <td>13.0</td>\n",
       "      <td>2010.0</td>\n",
       "      <td>Jan,Apr,Jul,Oct</td>\n",
       "    </tr>\n",
       "    <tr>\n",
       "      <th>2</th>\n",
       "      <td>3</td>\n",
       "      <td>a</td>\n",
       "      <td>a</td>\n",
       "      <td>14130.0</td>\n",
       "      <td>12.0</td>\n",
       "      <td>2006.0</td>\n",
       "      <td>1</td>\n",
       "      <td>14.0</td>\n",
       "      <td>2011.0</td>\n",
       "      <td>Jan,Apr,Jul,Oct</td>\n",
       "    </tr>\n",
       "    <tr>\n",
       "      <th>3</th>\n",
       "      <td>4</td>\n",
       "      <td>c</td>\n",
       "      <td>c</td>\n",
       "      <td>620.0</td>\n",
       "      <td>9.0</td>\n",
       "      <td>2009.0</td>\n",
       "      <td>0</td>\n",
       "      <td>NaN</td>\n",
       "      <td>NaN</td>\n",
       "      <td>NaN</td>\n",
       "    </tr>\n",
       "    <tr>\n",
       "      <th>4</th>\n",
       "      <td>5</td>\n",
       "      <td>a</td>\n",
       "      <td>a</td>\n",
       "      <td>29910.0</td>\n",
       "      <td>4.0</td>\n",
       "      <td>2015.0</td>\n",
       "      <td>0</td>\n",
       "      <td>NaN</td>\n",
       "      <td>NaN</td>\n",
       "      <td>NaN</td>\n",
       "    </tr>\n",
       "  </tbody>\n",
       "</table>\n",
       "</div>"
      ],
      "text/plain": [
       "   Store StoreType Assortment  CompetitionDistance  CompetitionOpenSinceMonth  \\\n",
       "0      1         c          a               1270.0                        9.0   \n",
       "1      2         a          a                570.0                       11.0   \n",
       "2      3         a          a              14130.0                       12.0   \n",
       "3      4         c          c                620.0                        9.0   \n",
       "4      5         a          a              29910.0                        4.0   \n",
       "\n",
       "   CompetitionOpenSinceYear  Promo2  Promo2SinceWeek  Promo2SinceYear  \\\n",
       "0                    2008.0       0              NaN              NaN   \n",
       "1                    2007.0       1             13.0           2010.0   \n",
       "2                    2006.0       1             14.0           2011.0   \n",
       "3                    2009.0       0              NaN              NaN   \n",
       "4                    2015.0       0              NaN              NaN   \n",
       "\n",
       "     PromoInterval  \n",
       "0              NaN  \n",
       "1  Jan,Apr,Jul,Oct  \n",
       "2  Jan,Apr,Jul,Oct  \n",
       "3              NaN  \n",
       "4              NaN  "
      ]
     },
     "execution_count": 19,
     "metadata": {},
     "output_type": "execute_result"
    }
   ],
   "source": [
    "store.head()"
   ]
  },
  {
   "cell_type": "code",
   "execution_count": 20,
   "id": "9fd016cd",
   "metadata": {},
   "outputs": [
    {
     "data": {
      "text/plain": [
       "(1115, 10)"
      ]
     },
     "execution_count": 20,
     "metadata": {},
     "output_type": "execute_result"
    }
   ],
   "source": [
    "store.shape"
   ]
  },
  {
   "cell_type": "code",
   "execution_count": 21,
   "id": "f32404a2",
   "metadata": {},
   "outputs": [
    {
     "name": "stdout",
     "output_type": "stream",
     "text": [
      "<class 'pandas.core.frame.DataFrame'>\n",
      "RangeIndex: 1115 entries, 0 to 1114\n",
      "Data columns (total 10 columns):\n",
      " #   Column                     Non-Null Count  Dtype  \n",
      "---  ------                     --------------  -----  \n",
      " 0   Store                      1115 non-null   int64  \n",
      " 1   StoreType                  1115 non-null   object \n",
      " 2   Assortment                 1115 non-null   object \n",
      " 3   CompetitionDistance        1112 non-null   float64\n",
      " 4   CompetitionOpenSinceMonth  761 non-null    float64\n",
      " 5   CompetitionOpenSinceYear   761 non-null    float64\n",
      " 6   Promo2                     1115 non-null   int64  \n",
      " 7   Promo2SinceWeek            571 non-null    float64\n",
      " 8   Promo2SinceYear            571 non-null    float64\n",
      " 9   PromoInterval              571 non-null    object \n",
      "dtypes: float64(5), int64(2), object(3)\n",
      "memory usage: 87.2+ KB\n"
     ]
    }
   ],
   "source": [
    "store.info()"
   ]
  },
  {
   "cell_type": "code",
   "execution_count": 22,
   "id": "979cde51",
   "metadata": {},
   "outputs": [
    {
     "data": {
      "text/plain": [
       "Store                          0\n",
       "StoreType                      0\n",
       "Assortment                     0\n",
       "CompetitionDistance            3\n",
       "CompetitionOpenSinceMonth    354\n",
       "CompetitionOpenSinceYear     354\n",
       "Promo2                         0\n",
       "Promo2SinceWeek              544\n",
       "Promo2SinceYear              544\n",
       "PromoInterval                544\n",
       "dtype: int64"
      ]
     },
     "execution_count": 22,
     "metadata": {},
     "output_type": "execute_result"
    }
   ],
   "source": [
    "store.isnull().sum()"
   ]
  },
  {
   "cell_type": "code",
   "execution_count": 23,
   "id": "b7ba6d65",
   "metadata": {},
   "outputs": [],
   "source": [
    "# Dropping the columns which have more than 25% of missing data\n",
    "\n",
    "store.drop(['CompetitionOpenSinceMonth', 'CompetitionOpenSinceYear','Promo2SinceWeek',\n",
    "                     'Promo2SinceYear', 'PromoInterval'], axis=1,inplace=True)"
   ]
  },
  {
   "cell_type": "code",
   "execution_count": 24,
   "id": "9f4a4253",
   "metadata": {},
   "outputs": [
    {
     "data": {
      "text/plain": [
       "(1115, 5)"
      ]
     },
     "execution_count": 24,
     "metadata": {},
     "output_type": "execute_result"
    }
   ],
   "source": [
    "store.shape"
   ]
  },
  {
   "cell_type": "code",
   "execution_count": 25,
   "id": "e30bdd5a",
   "metadata": {},
   "outputs": [],
   "source": [
    "# Filling the missing values of the columns in Store Dataset\n",
    "\n",
    "store.CompetitionDistance.fillna(store.CompetitionDistance.median(), inplace=True)"
   ]
  },
  {
   "cell_type": "code",
   "execution_count": 26,
   "id": "9b6fcda9",
   "metadata": {},
   "outputs": [
    {
     "name": "stdout",
     "output_type": "stream",
     "text": [
      "<class 'pandas.core.frame.DataFrame'>\n",
      "RangeIndex: 1115 entries, 0 to 1114\n",
      "Data columns (total 5 columns):\n",
      " #   Column               Non-Null Count  Dtype  \n",
      "---  ------               --------------  -----  \n",
      " 0   Store                1115 non-null   int64  \n",
      " 1   StoreType            1115 non-null   object \n",
      " 2   Assortment           1115 non-null   object \n",
      " 3   CompetitionDistance  1115 non-null   float64\n",
      " 4   Promo2               1115 non-null   int64  \n",
      "dtypes: float64(1), int64(2), object(2)\n",
      "memory usage: 43.7+ KB\n"
     ]
    }
   ],
   "source": [
    "store.info()"
   ]
  },
  {
   "cell_type": "markdown",
   "id": "28c7519b",
   "metadata": {},
   "source": [
    "# Merging to Dataset to form Single Dataset"
   ]
  },
  {
   "cell_type": "code",
   "execution_count": 27,
   "id": "62de8a8b",
   "metadata": {},
   "outputs": [],
   "source": [
    "dataframe=pd.merge(hoffman,store,how='left',on='Store')"
   ]
  },
  {
   "cell_type": "code",
   "execution_count": 28,
   "id": "8e5255ee",
   "metadata": {},
   "outputs": [
    {
     "data": {
      "text/html": [
       "<div>\n",
       "<style scoped>\n",
       "    .dataframe tbody tr th:only-of-type {\n",
       "        vertical-align: middle;\n",
       "    }\n",
       "\n",
       "    .dataframe tbody tr th {\n",
       "        vertical-align: top;\n",
       "    }\n",
       "\n",
       "    .dataframe thead th {\n",
       "        text-align: right;\n",
       "    }\n",
       "</style>\n",
       "<table border=\"1\" class=\"dataframe\">\n",
       "  <thead>\n",
       "    <tr style=\"text-align: right;\">\n",
       "      <th></th>\n",
       "      <th>Store</th>\n",
       "      <th>DayOfWeek</th>\n",
       "      <th>Date</th>\n",
       "      <th>Sales</th>\n",
       "      <th>Customers</th>\n",
       "      <th>Open</th>\n",
       "      <th>Promo</th>\n",
       "      <th>StateHoliday</th>\n",
       "      <th>SchoolHoliday</th>\n",
       "      <th>year</th>\n",
       "      <th>month</th>\n",
       "      <th>date</th>\n",
       "      <th>StoreType</th>\n",
       "      <th>Assortment</th>\n",
       "      <th>CompetitionDistance</th>\n",
       "      <th>Promo2</th>\n",
       "    </tr>\n",
       "  </thead>\n",
       "  <tbody>\n",
       "    <tr>\n",
       "      <th>0</th>\n",
       "      <td>1</td>\n",
       "      <td>5</td>\n",
       "      <td>31-07-2015</td>\n",
       "      <td>5263</td>\n",
       "      <td>555</td>\n",
       "      <td>1</td>\n",
       "      <td>1</td>\n",
       "      <td>0</td>\n",
       "      <td>1</td>\n",
       "      <td>2015</td>\n",
       "      <td>7</td>\n",
       "      <td>31</td>\n",
       "      <td>c</td>\n",
       "      <td>a</td>\n",
       "      <td>1270.0</td>\n",
       "      <td>0</td>\n",
       "    </tr>\n",
       "    <tr>\n",
       "      <th>1</th>\n",
       "      <td>2</td>\n",
       "      <td>5</td>\n",
       "      <td>31-07-2015</td>\n",
       "      <td>6064</td>\n",
       "      <td>625</td>\n",
       "      <td>1</td>\n",
       "      <td>1</td>\n",
       "      <td>0</td>\n",
       "      <td>1</td>\n",
       "      <td>2015</td>\n",
       "      <td>7</td>\n",
       "      <td>31</td>\n",
       "      <td>a</td>\n",
       "      <td>a</td>\n",
       "      <td>570.0</td>\n",
       "      <td>1</td>\n",
       "    </tr>\n",
       "    <tr>\n",
       "      <th>2</th>\n",
       "      <td>3</td>\n",
       "      <td>5</td>\n",
       "      <td>31-07-2015</td>\n",
       "      <td>8314</td>\n",
       "      <td>821</td>\n",
       "      <td>1</td>\n",
       "      <td>1</td>\n",
       "      <td>0</td>\n",
       "      <td>1</td>\n",
       "      <td>2015</td>\n",
       "      <td>7</td>\n",
       "      <td>31</td>\n",
       "      <td>a</td>\n",
       "      <td>a</td>\n",
       "      <td>14130.0</td>\n",
       "      <td>1</td>\n",
       "    </tr>\n",
       "    <tr>\n",
       "      <th>3</th>\n",
       "      <td>4</td>\n",
       "      <td>5</td>\n",
       "      <td>31-07-2015</td>\n",
       "      <td>13995</td>\n",
       "      <td>1498</td>\n",
       "      <td>1</td>\n",
       "      <td>1</td>\n",
       "      <td>0</td>\n",
       "      <td>1</td>\n",
       "      <td>2015</td>\n",
       "      <td>7</td>\n",
       "      <td>31</td>\n",
       "      <td>c</td>\n",
       "      <td>c</td>\n",
       "      <td>620.0</td>\n",
       "      <td>0</td>\n",
       "    </tr>\n",
       "    <tr>\n",
       "      <th>4</th>\n",
       "      <td>5</td>\n",
       "      <td>5</td>\n",
       "      <td>31-07-2015</td>\n",
       "      <td>4822</td>\n",
       "      <td>559</td>\n",
       "      <td>1</td>\n",
       "      <td>1</td>\n",
       "      <td>0</td>\n",
       "      <td>1</td>\n",
       "      <td>2015</td>\n",
       "      <td>7</td>\n",
       "      <td>31</td>\n",
       "      <td>a</td>\n",
       "      <td>a</td>\n",
       "      <td>29910.0</td>\n",
       "      <td>0</td>\n",
       "    </tr>\n",
       "  </tbody>\n",
       "</table>\n",
       "</div>"
      ],
      "text/plain": [
       "   Store  DayOfWeek        Date  Sales  Customers  Open  Promo  StateHoliday  \\\n",
       "0      1          5  31-07-2015   5263        555     1      1             0   \n",
       "1      2          5  31-07-2015   6064        625     1      1             0   \n",
       "2      3          5  31-07-2015   8314        821     1      1             0   \n",
       "3      4          5  31-07-2015  13995       1498     1      1             0   \n",
       "4      5          5  31-07-2015   4822        559     1      1             0   \n",
       "\n",
       "   SchoolHoliday  year  month  date StoreType Assortment  CompetitionDistance  \\\n",
       "0              1  2015      7    31         c          a               1270.0   \n",
       "1              1  2015      7    31         a          a                570.0   \n",
       "2              1  2015      7    31         a          a              14130.0   \n",
       "3              1  2015      7    31         c          c                620.0   \n",
       "4              1  2015      7    31         a          a              29910.0   \n",
       "\n",
       "   Promo2  \n",
       "0       0  \n",
       "1       1  \n",
       "2       1  \n",
       "3       0  \n",
       "4       0  "
      ]
     },
     "execution_count": 28,
     "metadata": {},
     "output_type": "execute_result"
    }
   ],
   "source": [
    "dataframe.head()"
   ]
  },
  {
   "cell_type": "code",
   "execution_count": 29,
   "id": "7c44af5c",
   "metadata": {},
   "outputs": [
    {
     "data": {
      "text/plain": [
       "(1017209, 16)"
      ]
     },
     "execution_count": 29,
     "metadata": {},
     "output_type": "execute_result"
    }
   ],
   "source": [
    "dataframe.shape"
   ]
  },
  {
   "cell_type": "code",
   "execution_count": 30,
   "id": "181caddc",
   "metadata": {},
   "outputs": [],
   "source": [
    "dataframe.drop('Date',axis=1,inplace=True)"
   ]
  },
  {
   "cell_type": "code",
   "execution_count": 31,
   "id": "2bd10ca7",
   "metadata": {},
   "outputs": [
    {
     "data": {
      "text/html": [
       "<div>\n",
       "<style scoped>\n",
       "    .dataframe tbody tr th:only-of-type {\n",
       "        vertical-align: middle;\n",
       "    }\n",
       "\n",
       "    .dataframe tbody tr th {\n",
       "        vertical-align: top;\n",
       "    }\n",
       "\n",
       "    .dataframe thead th {\n",
       "        text-align: right;\n",
       "    }\n",
       "</style>\n",
       "<table border=\"1\" class=\"dataframe\">\n",
       "  <thead>\n",
       "    <tr style=\"text-align: right;\">\n",
       "      <th></th>\n",
       "      <th>Store</th>\n",
       "      <th>DayOfWeek</th>\n",
       "      <th>Sales</th>\n",
       "      <th>Customers</th>\n",
       "      <th>Open</th>\n",
       "      <th>Promo</th>\n",
       "      <th>StateHoliday</th>\n",
       "      <th>SchoolHoliday</th>\n",
       "      <th>year</th>\n",
       "      <th>month</th>\n",
       "      <th>date</th>\n",
       "      <th>StoreType</th>\n",
       "      <th>Assortment</th>\n",
       "      <th>CompetitionDistance</th>\n",
       "      <th>Promo2</th>\n",
       "    </tr>\n",
       "  </thead>\n",
       "  <tbody>\n",
       "    <tr>\n",
       "      <th>0</th>\n",
       "      <td>1</td>\n",
       "      <td>5</td>\n",
       "      <td>5263</td>\n",
       "      <td>555</td>\n",
       "      <td>1</td>\n",
       "      <td>1</td>\n",
       "      <td>0</td>\n",
       "      <td>1</td>\n",
       "      <td>2015</td>\n",
       "      <td>7</td>\n",
       "      <td>31</td>\n",
       "      <td>c</td>\n",
       "      <td>a</td>\n",
       "      <td>1270.0</td>\n",
       "      <td>0</td>\n",
       "    </tr>\n",
       "    <tr>\n",
       "      <th>1</th>\n",
       "      <td>2</td>\n",
       "      <td>5</td>\n",
       "      <td>6064</td>\n",
       "      <td>625</td>\n",
       "      <td>1</td>\n",
       "      <td>1</td>\n",
       "      <td>0</td>\n",
       "      <td>1</td>\n",
       "      <td>2015</td>\n",
       "      <td>7</td>\n",
       "      <td>31</td>\n",
       "      <td>a</td>\n",
       "      <td>a</td>\n",
       "      <td>570.0</td>\n",
       "      <td>1</td>\n",
       "    </tr>\n",
       "    <tr>\n",
       "      <th>2</th>\n",
       "      <td>3</td>\n",
       "      <td>5</td>\n",
       "      <td>8314</td>\n",
       "      <td>821</td>\n",
       "      <td>1</td>\n",
       "      <td>1</td>\n",
       "      <td>0</td>\n",
       "      <td>1</td>\n",
       "      <td>2015</td>\n",
       "      <td>7</td>\n",
       "      <td>31</td>\n",
       "      <td>a</td>\n",
       "      <td>a</td>\n",
       "      <td>14130.0</td>\n",
       "      <td>1</td>\n",
       "    </tr>\n",
       "    <tr>\n",
       "      <th>3</th>\n",
       "      <td>4</td>\n",
       "      <td>5</td>\n",
       "      <td>13995</td>\n",
       "      <td>1498</td>\n",
       "      <td>1</td>\n",
       "      <td>1</td>\n",
       "      <td>0</td>\n",
       "      <td>1</td>\n",
       "      <td>2015</td>\n",
       "      <td>7</td>\n",
       "      <td>31</td>\n",
       "      <td>c</td>\n",
       "      <td>c</td>\n",
       "      <td>620.0</td>\n",
       "      <td>0</td>\n",
       "    </tr>\n",
       "    <tr>\n",
       "      <th>4</th>\n",
       "      <td>5</td>\n",
       "      <td>5</td>\n",
       "      <td>4822</td>\n",
       "      <td>559</td>\n",
       "      <td>1</td>\n",
       "      <td>1</td>\n",
       "      <td>0</td>\n",
       "      <td>1</td>\n",
       "      <td>2015</td>\n",
       "      <td>7</td>\n",
       "      <td>31</td>\n",
       "      <td>a</td>\n",
       "      <td>a</td>\n",
       "      <td>29910.0</td>\n",
       "      <td>0</td>\n",
       "    </tr>\n",
       "  </tbody>\n",
       "</table>\n",
       "</div>"
      ],
      "text/plain": [
       "   Store  DayOfWeek  Sales  Customers  Open  Promo  StateHoliday  \\\n",
       "0      1          5   5263        555     1      1             0   \n",
       "1      2          5   6064        625     1      1             0   \n",
       "2      3          5   8314        821     1      1             0   \n",
       "3      4          5  13995       1498     1      1             0   \n",
       "4      5          5   4822        559     1      1             0   \n",
       "\n",
       "   SchoolHoliday  year  month  date StoreType Assortment  CompetitionDistance  \\\n",
       "0              1  2015      7    31         c          a               1270.0   \n",
       "1              1  2015      7    31         a          a                570.0   \n",
       "2              1  2015      7    31         a          a              14130.0   \n",
       "3              1  2015      7    31         c          c                620.0   \n",
       "4              1  2015      7    31         a          a              29910.0   \n",
       "\n",
       "   Promo2  \n",
       "0       0  \n",
       "1       1  \n",
       "2       1  \n",
       "3       0  \n",
       "4       0  "
      ]
     },
     "execution_count": 31,
     "metadata": {},
     "output_type": "execute_result"
    }
   ],
   "source": [
    "dataframe.head()"
   ]
  },
  {
   "cell_type": "code",
   "execution_count": 34,
   "id": "9640ef8d",
   "metadata": {},
   "outputs": [
    {
     "name": "stdout",
     "output_type": "stream",
     "text": [
      "<class 'pandas.core.frame.DataFrame'>\n",
      "Int64Index: 1017209 entries, 0 to 1017208\n",
      "Data columns (total 15 columns):\n",
      " #   Column               Non-Null Count    Dtype  \n",
      "---  ------               --------------    -----  \n",
      " 0   Store                1017209 non-null  int64  \n",
      " 1   DayOfWeek            1017209 non-null  int64  \n",
      " 2   Sales                1017209 non-null  int64  \n",
      " 3   Customers            1017209 non-null  int64  \n",
      " 4   Open                 1017209 non-null  int64  \n",
      " 5   Promo                1017209 non-null  int64  \n",
      " 6   StateHoliday         1017209 non-null  int64  \n",
      " 7   SchoolHoliday        1017209 non-null  int64  \n",
      " 8   year                 1017209 non-null  int64  \n",
      " 9   month                1017209 non-null  int64  \n",
      " 10  date                 1017209 non-null  int64  \n",
      " 11  StoreType            1017209 non-null  object \n",
      " 12  Assortment           1017209 non-null  object \n",
      " 13  CompetitionDistance  1017209 non-null  float64\n",
      " 14  Promo2               1017209 non-null  int64  \n",
      "dtypes: float64(1), int64(12), object(2)\n",
      "memory usage: 124.2+ MB\n"
     ]
    }
   ],
   "source": [
    "dataframe.info()"
   ]
  },
  {
   "cell_type": "markdown",
   "id": "b4711344",
   "metadata": {},
   "source": [
    "# Encoding the Columns having categorical values "
   ]
  },
  {
   "cell_type": "code",
   "execution_count": 35,
   "id": "037db39f",
   "metadata": {},
   "outputs": [],
   "source": [
    "from sklearn.preprocessing import LabelEncoder\n",
    "le=LabelEncoder()\n",
    "dataframe[\"StoreType\"]=le.fit_transform(dataframe[\"StoreType\"])\n",
    "dataframe[\"Assortment\"]=le.fit_transform(dataframe[\"Assortment\"])"
   ]
  },
  {
   "cell_type": "code",
   "execution_count": 36,
   "id": "0107ae07",
   "metadata": {},
   "outputs": [
    {
     "data": {
      "text/plain": [
       "0    551627\n",
       "3    312912\n",
       "2    136840\n",
       "1     15830\n",
       "Name: StoreType, dtype: int64"
      ]
     },
     "execution_count": 36,
     "metadata": {},
     "output_type": "execute_result"
    }
   ],
   "source": [
    "dataframe[\"StoreType\"].value_counts()"
   ]
  },
  {
   "cell_type": "code",
   "execution_count": 37,
   "id": "c54231b9",
   "metadata": {},
   "outputs": [
    {
     "data": {
      "text/plain": [
       "0    537445\n",
       "2    471470\n",
       "1      8294\n",
       "Name: Assortment, dtype: int64"
      ]
     },
     "execution_count": 37,
     "metadata": {},
     "output_type": "execute_result"
    }
   ],
   "source": [
    "dataframe['Assortment'].value_counts()"
   ]
  },
  {
   "cell_type": "markdown",
   "id": "40c1dc19",
   "metadata": {},
   "source": [
    "# Plotting Box Plot to check if Outliers are present or not"
   ]
  },
  {
   "cell_type": "code",
   "execution_count": 38,
   "id": "2795ea9b",
   "metadata": {},
   "outputs": [
    {
     "data": {
      "image/png": "[encoded data removed]",
      "text/plain": [
       "<Figure size 2500x3000 with 15 Axes>"
      ]
     },
     "metadata": {},
     "output_type": "display_data"
    }
   ],
   "source": [
    "#box plot\n",
    "\n",
    "fig, ax=plt.subplots(ncols=3,nrows=5,figsize=(25,30))\n",
    "index=0\n",
    "ax=ax.flatten()\n",
    "\n",
    "for cols,value in dataframe.items():\n",
    "    sns.boxplot(y=cols,data=dataframe,ax=ax[index],color=\"orange\")\n",
    "    index+=1"
   ]
  },
  {
   "cell_type": "markdown",
   "id": "1fdd126a",
   "metadata": {},
   "source": [
    "# Treating the Outliers present in the Dataset"
   ]
  },
  {
   "cell_type": "code",
   "execution_count": 43,
   "id": "f0a14479",
   "metadata": {},
   "outputs": [
    {
     "data": {
      "text/plain": [
       "6170.0"
      ]
     },
     "execution_count": 43,
     "metadata": {},
     "output_type": "execute_result"
    }
   ],
   "source": [
    "percentile25 = dataframe['CompetitionDistance'].quantile(0.25)\n",
    "percentile75 = dataframe['CompetitionDistance'].quantile(0.75)\n",
    "iqr = percentile75 - percentile25\n",
    "iqr "
   ]
  },
  {
   "cell_type": "code",
   "execution_count": 44,
   "id": "17576691",
   "metadata": {},
   "outputs": [],
   "source": [
    "upper_limit = percentile75 + 1.5*iqr\n",
    "lower_limit = percentile25 - 1.5*iqr"
   ]
  },
  {
   "cell_type": "code",
   "execution_count": 45,
   "id": "da9df580",
   "metadata": {},
   "outputs": [],
   "source": [
    "#we are using capping method to treat the outliers\n",
    "\n",
    "dataframe['CompetitionDistance'] = np.where(\n",
    "    dataframe['CompetitionDistance'] > upper_limit,\n",
    "    upper_limit,\n",
    "    np.where(\n",
    "        dataframe['CompetitionDistance'] < lower_limit,\n",
    "        lower_limit,\n",
    "        dataframe['CompetitionDistance']\n",
    "    )\n",
    ")"
   ]
  },
  {
   "cell_type": "code",
   "execution_count": 46,
   "id": "e57a9c9d",
   "metadata": {},
   "outputs": [
    {
     "data": {
      "text/plain": [
       "<AxesSubplot: xlabel='CompetitionDistance'>"
      ]
     },
     "execution_count": 46,
     "metadata": {},
     "output_type": "execute_result"
    },
    {
     "data": {
      "image/png": "[encoded data removed]",
      "text/plain": [
       "<Figure size 640x480 with 1 Axes>"
      ]
     },
     "metadata": {},
     "output_type": "display_data"
    }
   ],
   "source": [
    "sns.boxplot(dataframe['CompetitionDistance'],color='orange')"
   ]
  },
  {
   "cell_type": "code",
   "execution_count": 47,
   "id": "1410fa2b",
   "metadata": {},
   "outputs": [
    {
     "data": {
      "text/plain": [
       "432.0"
      ]
     },
     "execution_count": 47,
     "metadata": {},
     "output_type": "execute_result"
    }
   ],
   "source": [
    "percentile25 = dataframe['Customers'].quantile(0.25)\n",
    "percentile75 = dataframe['Customers'].quantile(0.75)\n",
    "iqr = percentile75 - percentile25\n",
    "iqr "
   ]
  },
  {
   "cell_type": "code",
   "execution_count": 48,
   "id": "5f6f9907",
   "metadata": {},
   "outputs": [],
   "source": [
    "upper_limit = percentile75 + 1.5*iqr\n",
    "lower_limit = percentile25 - 1.5*iqr"
   ]
  },
  {
   "cell_type": "code",
   "execution_count": 49,
   "id": "05fcf103",
   "metadata": {},
   "outputs": [],
   "source": [
    "dataframe['Customers'] = np.where(\n",
    "    dataframe['Customers'] > upper_limit,\n",
    "    upper_limit,\n",
    "    np.where(\n",
    "        dataframe['Customers'] < lower_limit,\n",
    "        lower_limit,\n",
    "        dataframe['Customers']\n",
    "    )\n",
    ")"
   ]
  },
  {
   "cell_type": "code",
   "execution_count": 50,
   "id": "45d6101e",
   "metadata": {},
   "outputs": [
    {
     "data": {
      "text/plain": [
       "<AxesSubplot: xlabel='Customers'>"
      ]
     },
     "execution_count": 50,
     "metadata": {},
     "output_type": "execute_result"
    },
    {
     "data": {
      "image/png": "[encoded data removed]",
      "text/plain": [
       "<Figure size 640x480 with 1 Axes>"
      ]
     },
     "metadata": {},
     "output_type": "display_data"
    }
   ],
   "source": [
    "sns.boxplot(dataframe['Customers'],color='orange')"
   ]
  },
  {
   "cell_type": "code",
   "execution_count": 51,
   "id": "03eabe44",
   "metadata": {},
   "outputs": [
    {
     "data": {
      "text/plain": [
       "4129.0"
      ]
     },
     "execution_count": 51,
     "metadata": {},
     "output_type": "execute_result"
    }
   ],
   "source": [
    "percentile25 = dataframe['Sales'].quantile(0.25)\n",
    "percentile75 = dataframe['Sales'].quantile(0.75)\n",
    "iqr = percentile75 - percentile25\n",
    "iqr"
   ]
  },
  {
   "cell_type": "code",
   "execution_count": 52,
   "id": "a439dc34",
   "metadata": {},
   "outputs": [],
   "source": [
    "upper_limit = percentile75 + 1.5*iqr\n",
    "lower_limit = percentile25 - 1.5*iqr"
   ]
  },
  {
   "cell_type": "code",
   "execution_count": 53,
   "id": "3c2bcff4",
   "metadata": {},
   "outputs": [],
   "source": [
    "dataframe['Sales'] = np.where(\n",
    "    dataframe['Sales'] > upper_limit,\n",
    "    upper_limit,\n",
    "    np.where(\n",
    "        dataframe['Sales'] < lower_limit,\n",
    "        lower_limit,\n",
    "        dataframe['Sales']\n",
    "    )\n",
    ")"
   ]
  },
  {
   "cell_type": "code",
   "execution_count": 54,
   "id": "b28a6815",
   "metadata": {},
   "outputs": [
    {
     "data": {
      "text/plain": [
       "<AxesSubplot: xlabel='Sales'>"
      ]
     },
     "execution_count": 54,
     "metadata": {},
     "output_type": "execute_result"
    },
    {
     "data": {
      "image/png": "[encoded data removed]",
      "text/plain": [
       "<Figure size 640x480 with 1 Axes>"
      ]
     },
     "metadata": {},
     "output_type": "display_data"
    }
   ],
   "source": [
    "sns.boxplot(dataframe['Sales'],color='orange')"
   ]
  },
  {
   "cell_type": "code",
   "execution_count": 58,
   "id": "27627cbe",
   "metadata": {},
   "outputs": [],
   "source": [
    "# Droping the records where Store is not Open as no sales is generated when store is closed\n",
    "dataframe=dataframe[dataframe.Open != 0]\n"
   ]
  },
  {
   "cell_type": "code",
   "execution_count": 59,
   "id": "18a8fb7e",
   "metadata": {},
   "outputs": [],
   "source": [
    "#Droping the Column Open as it no longer required\n",
    "dataframe.drop('Open', axis=1, inplace=True)"
   ]
  },
  {
   "cell_type": "code",
   "execution_count": 62,
   "id": "f9c1ddb9",
   "metadata": {},
   "outputs": [
    {
     "data": {
      "text/plain": [
       "(844392, 14)"
      ]
     },
     "execution_count": 62,
     "metadata": {},
     "output_type": "execute_result"
    }
   ],
   "source": [
    "dataframe.shape"
   ]
  },
  {
   "cell_type": "code",
   "execution_count": 61,
   "id": "b322b7f6",
   "metadata": {},
   "outputs": [
    {
     "data": {
      "text/plain": [
       "31460"
      ]
     },
     "execution_count": 61,
     "metadata": {},
     "output_type": "execute_result"
    }
   ],
   "source": [
    "#Checking if there is any store with zero sales\n",
    "dataframe[dataframe.Sales ==0]['Store'].sum()"
   ]
  },
  {
   "cell_type": "code",
   "execution_count": 63,
   "id": "5a8cf73d",
   "metadata": {},
   "outputs": [],
   "source": [
    "#Droping the record where sales is zero\n",
    "dataframe=dataframe[dataframe.Sales !=0]"
   ]
  },
  {
   "cell_type": "code",
   "execution_count": 65,
   "id": "1f5d5427",
   "metadata": {},
   "outputs": [],
   "source": [
    "dataframe_new=dataframe.copy()\n"
   ]
  },
  {
   "cell_type": "code",
   "execution_count": 66,
   "id": "72dc402f",
   "metadata": {},
   "outputs": [
    {
     "data": {
      "text/plain": [
       "(844338, 14)"
      ]
     },
     "execution_count": 66,
     "metadata": {},
     "output_type": "execute_result"
    }
   ],
   "source": [
    "dataframe_new.shape"
   ]
  },
  {
   "cell_type": "code",
   "execution_count": 67,
   "id": "241e73b8",
   "metadata": {},
   "outputs": [
    {
     "data": {
      "text/html": [
       "<style type=\"text/css\">\n",
       "#T_2b748_row0_col0, #T_2b748_row1_col1, #T_2b748_row2_col2, #T_2b748_row3_col3, #T_2b748_row4_col4, #T_2b748_row5_col5, #T_2b748_row6_col6, #T_2b748_row7_col7, #T_2b748_row8_col8, #T_2b748_row9_col9, #T_2b748_row10_col10, #T_2b748_row11_col11, #T_2b748_row12_col12, #T_2b748_row13_col13 {\n",
       "  background-color: #662506;\n",
       "  color: #f1f1f1;\n",
       "}\n",
       "#T_2b748_row0_col1, #T_2b748_row0_col4, #T_2b748_row5_col1, #T_2b748_row5_col4, #T_2b748_row7_col1, #T_2b748_row9_col1, #T_2b748_row10_col1, #T_2b748_row10_col4, #T_2b748_row11_col1, #T_2b748_row11_col4, #T_2b748_row12_col1, #T_2b748_row12_col4, #T_2b748_row13_col4 {\n",
       "  background-color: #fee79a;\n",
       "  color: #000000;\n",
       "}\n",
       "#T_2b748_row0_col2, #T_2b748_row0_col10, #T_2b748_row4_col7, #T_2b748_row9_col6, #T_2b748_row12_col11 {\n",
       "  background-color: #fff1b0;\n",
       "  color: #000000;\n",
       "}\n",
       "#T_2b748_row0_col3, #T_2b748_row6_col3 {\n",
       "  background-color: #feeaa0;\n",
       "  color: #000000;\n",
       "}\n",
       "#T_2b748_row0_col5, #T_2b748_row4_col5, #T_2b748_row7_col5, #T_2b748_row12_col5 {\n",
       "  background-color: #fffee1;\n",
       "  color: #000000;\n",
       "}\n",
       "#T_2b748_row0_col6, #T_2b748_row3_col1 {\n",
       "  background-color: #fff7bd;\n",
       "  color: #000000;\n",
       "}\n",
       "#T_2b748_row0_col7, #T_2b748_row0_col8, #T_2b748_row2_col12, #T_2b748_row3_col7, #T_2b748_row10_col7, #T_2b748_row12_col7, #T_2b748_row12_col8 {\n",
       "  background-color: #fff4b6;\n",
       "  color: #000000;\n",
       "}\n",
       "#T_2b748_row0_col9, #T_2b748_row11_col9, #T_2b748_row12_col9 {\n",
       "  background-color: #fff9c6;\n",
       "  color: #000000;\n",
       "}\n",
       "#T_2b748_row0_col11, #T_2b748_row1_col5, #T_2b748_row9_col5, #T_2b748_row11_col5, #T_2b748_row13_col11 {\n",
       "  background-color: #fffee2;\n",
       "  color: #000000;\n",
       "}\n",
       "#T_2b748_row0_col12, #T_2b748_row1_col7, #T_2b748_row1_col8, #T_2b748_row4_col6, #T_2b748_row5_col7, #T_2b748_row9_col2, #T_2b748_row11_col7, #T_2b748_row11_col8 {\n",
       "  background-color: #fff4b5;\n",
       "  color: #000000;\n",
       "}\n",
       "#T_2b748_row0_col13, #T_2b748_row11_col13 {\n",
       "  background-color: #ffeea8;\n",
       "  color: #000000;\n",
       "}\n",
       "#T_2b748_row1_col0, #T_2b748_row2_col5, #T_2b748_row4_col0, #T_2b748_row4_col8, #T_2b748_row6_col0, #T_2b748_row7_col0, #T_2b748_row8_col0, #T_2b748_row9_col0 {\n",
       "  background-color: #fffddd;\n",
       "  color: #000000;\n",
       "}\n",
       "#T_2b748_row1_col2, #T_2b748_row1_col4, #T_2b748_row1_col6, #T_2b748_row3_col10, #T_2b748_row3_col12, #T_2b748_row3_col13, #T_2b748_row4_col1, #T_2b748_row4_col11, #T_2b748_row5_col11, #T_2b748_row6_col11, #T_2b748_row7_col8, #T_2b748_row8_col5, #T_2b748_row8_col7, #T_2b748_row8_col9, #T_2b748_row10_col3, #T_2b748_row12_col0, #T_2b748_row13_col3, #T_2b748_row13_col5 {\n",
       "  background-color: #ffffe5;\n",
       "  color: #000000;\n",
       "}\n",
       "#T_2b748_row1_col3 {\n",
       "  background-color: #ffface;\n",
       "  color: #000000;\n",
       "}\n",
       "#T_2b748_row1_col9, #T_2b748_row5_col9, #T_2b748_row10_col9, #T_2b748_row13_col9 {\n",
       "  background-color: #fff9c7;\n",
       "  color: #000000;\n",
       "}\n",
       "#T_2b748_row1_col10, #T_2b748_row1_col13, #T_2b748_row2_col7, #T_2b748_row2_col10, #T_2b748_row4_col13, #T_2b748_row5_col10, #T_2b748_row6_col10, #T_2b748_row8_col10, #T_2b748_row9_col13 {\n",
       "  background-color: #ffefaa;\n",
       "  color: #000000;\n",
       "}\n",
       "#T_2b748_row1_col11, #T_2b748_row3_col11, #T_2b748_row7_col11, #T_2b748_row8_col11, #T_2b748_row9_col11, #T_2b748_row10_col0, #T_2b748_row10_col5 {\n",
       "  background-color: #ffffe4;\n",
       "  color: #000000;\n",
       "}\n",
       "#T_2b748_row1_col12, #T_2b748_row5_col2, #T_2b748_row5_col12, #T_2b748_row5_col13 {\n",
       "  background-color: #fff0ad;\n",
       "  color: #000000;\n",
       "}\n",
       "#T_2b748_row2_col0, #T_2b748_row4_col9, #T_2b748_row5_col0 {\n",
       "  background-color: #fffddc;\n",
       "  color: #000000;\n",
       "}\n",
       "#T_2b748_row2_col1, #T_2b748_row2_col9, #T_2b748_row2_col13, #T_2b748_row3_col9 {\n",
       "  background-color: #fffacb;\n",
       "  color: #000000;\n",
       "}\n",
       "#T_2b748_row2_col3 {\n",
       "  background-color: #9b3504;\n",
       "  color: #f1f1f1;\n",
       "}\n",
       "#T_2b748_row2_col4 {\n",
       "  background-color: #fa8f24;\n",
       "  color: #f1f1f1;\n",
       "}\n",
       "#T_2b748_row2_col6 {\n",
       "  background-color: #fff2b1;\n",
       "  color: #000000;\n",
       "}\n",
       "#T_2b748_row2_col8, #T_2b748_row2_col11, #T_2b748_row6_col1, #T_2b748_row13_col6 {\n",
       "  background-color: #fff8c0;\n",
       "  color: #000000;\n",
       "}\n",
       "#T_2b748_row3_col0 {\n",
       "  background-color: #fffbd3;\n",
       "  color: #000000;\n",
       "}\n",
       "#T_2b748_row3_col2 {\n",
       "  background-color: #9c3604;\n",
       "  color: #f1f1f1;\n",
       "}\n",
       "#T_2b748_row3_col4 {\n",
       "  background-color: #feba46;\n",
       "  color: #000000;\n",
       "}\n",
       "#T_2b748_row3_col5 {\n",
       "  background-color: #fffdd9;\n",
       "  color: #000000;\n",
       "}\n",
       "#T_2b748_row3_col6 {\n",
       "  background-color: #fff3b4;\n",
       "  color: #000000;\n",
       "}\n",
       "#T_2b748_row3_col8, #T_2b748_row5_col6, #T_2b748_row5_col8, #T_2b748_row6_col9, #T_2b748_row12_col2 {\n",
       "  background-color: #fff6b9;\n",
       "  color: #000000;\n",
       "}\n",
       "#T_2b748_row4_col2 {\n",
       "  background-color: #fe9c2c;\n",
       "  color: #000000;\n",
       "}\n",
       "#T_2b748_row4_col3 {\n",
       "  background-color: #fec550;\n",
       "  color: #000000;\n",
       "}\n",
       "#T_2b748_row4_col10, #T_2b748_row7_col3, #T_2b748_row7_col10, #T_2b748_row9_col10, #T_2b748_row11_col3 {\n",
       "  background-color: #ffeea9;\n",
       "  color: #000000;\n",
       "}\n",
       "#T_2b748_row4_col12, #T_2b748_row6_col12, #T_2b748_row7_col12, #T_2b748_row8_col12, #T_2b748_row8_col13, #T_2b748_row9_col3, #T_2b748_row9_col4, #T_2b748_row9_col12 {\n",
       "  background-color: #fff1ae;\n",
       "  color: #000000;\n",
       "}\n",
       "#T_2b748_row5_col3 {\n",
       "  background-color: #feeaa1;\n",
       "  color: #000000;\n",
       "}\n",
       "#T_2b748_row6_col2, #T_2b748_row7_col2 {\n",
       "  background-color: #feeca5;\n",
       "  color: #000000;\n",
       "}\n",
       "#T_2b748_row6_col4 {\n",
       "  background-color: #fee392;\n",
       "  color: #000000;\n",
       "}\n",
       "#T_2b748_row6_col5 {\n",
       "  background-color: #fffedf;\n",
       "  color: #000000;\n",
       "}\n",
       "#T_2b748_row6_col7 {\n",
       "  background-color: #fff8c1;\n",
       "  color: #000000;\n",
       "}\n",
       "#T_2b748_row6_col8, #T_2b748_row13_col1 {\n",
       "  background-color: #fee89b;\n",
       "  color: #000000;\n",
       "}\n",
       "#T_2b748_row6_col13, #T_2b748_row7_col13, #T_2b748_row8_col3 {\n",
       "  background-color: #ffefac;\n",
       "  color: #000000;\n",
       "}\n",
       "#T_2b748_row7_col4 {\n",
       "  background-color: #fee493;\n",
       "  color: #000000;\n",
       "}\n",
       "#T_2b748_row7_col6, #T_2b748_row13_col12 {\n",
       "  background-color: #fff9c9;\n",
       "  color: #000000;\n",
       "}\n",
       "#T_2b748_row7_col9 {\n",
       "  background-color: #fffbcf;\n",
       "  color: #000000;\n",
       "}\n",
       "#T_2b748_row8_col1 {\n",
       "  background-color: #fee799;\n",
       "  color: #000000;\n",
       "}\n",
       "#T_2b748_row8_col2, #T_2b748_row13_col8 {\n",
       "  background-color: #fff6ba;\n",
       "  color: #000000;\n",
       "}\n",
       "#T_2b748_row8_col4, #T_2b748_row9_col7, #T_2b748_row10_col6, #T_2b748_row11_col6, #T_2b748_row12_col6 {\n",
       "  background-color: #fff7be;\n",
       "  color: #000000;\n",
       "}\n",
       "#T_2b748_row8_col6 {\n",
       "  background-color: #feeba2;\n",
       "  color: #000000;\n",
       "}\n",
       "#T_2b748_row9_col8, #T_2b748_row13_col2 {\n",
       "  background-color: #fffcd4;\n",
       "  color: #000000;\n",
       "}\n",
       "#T_2b748_row10_col2 {\n",
       "  background-color: #fff3b2;\n",
       "  color: #000000;\n",
       "}\n",
       "#T_2b748_row10_col8, #T_2b748_row13_col7 {\n",
       "  background-color: #fff5b8;\n",
       "  color: #000000;\n",
       "}\n",
       "#T_2b748_row10_col11 {\n",
       "  background-color: #fee697;\n",
       "  color: #000000;\n",
       "}\n",
       "#T_2b748_row10_col12 {\n",
       "  background-color: #fed97c;\n",
       "  color: #000000;\n",
       "}\n",
       "#T_2b748_row10_col13 {\n",
       "  background-color: #fee390;\n",
       "  color: #000000;\n",
       "}\n",
       "#T_2b748_row11_col0, #T_2b748_row13_col0 {\n",
       "  background-color: #fffddb;\n",
       "  color: #000000;\n",
       "}\n",
       "#T_2b748_row11_col2, #T_2b748_row13_col10 {\n",
       "  background-color: #fee28e;\n",
       "  color: #000000;\n",
       "}\n",
       "#T_2b748_row11_col10 {\n",
       "  background-color: #fec652;\n",
       "  color: #000000;\n",
       "}\n",
       "#T_2b748_row11_col12 {\n",
       "  background-color: #fed778;\n",
       "  color: #000000;\n",
       "}\n",
       "#T_2b748_row12_col3 {\n",
       "  background-color: #fffee0;\n",
       "  color: #000000;\n",
       "}\n",
       "#T_2b748_row12_col10 {\n",
       "  background-color: #fed676;\n",
       "  color: #000000;\n",
       "}\n",
       "#T_2b748_row12_col13 {\n",
       "  background-color: #fff9c5;\n",
       "  color: #000000;\n",
       "}\n",
       "</style>\n",
       "<table id=\"T_2b748\">\n",
       "  <thead>\n",
       "    <tr>\n",
       "      <th class=\"blank level0\" >&nbsp;</th>\n",
       "      <th id=\"T_2b748_level0_col0\" class=\"col_heading level0 col0\" >Store</th>\n",
       "      <th id=\"T_2b748_level0_col1\" class=\"col_heading level0 col1\" >DayOfWeek</th>\n",
       "      <th id=\"T_2b748_level0_col2\" class=\"col_heading level0 col2\" >Sales</th>\n",
       "      <th id=\"T_2b748_level0_col3\" class=\"col_heading level0 col3\" >Customers</th>\n",
       "      <th id=\"T_2b748_level0_col4\" class=\"col_heading level0 col4\" >Promo</th>\n",
       "      <th id=\"T_2b748_level0_col5\" class=\"col_heading level0 col5\" >StateHoliday</th>\n",
       "      <th id=\"T_2b748_level0_col6\" class=\"col_heading level0 col6\" >SchoolHoliday</th>\n",
       "      <th id=\"T_2b748_level0_col7\" class=\"col_heading level0 col7\" >year</th>\n",
       "      <th id=\"T_2b748_level0_col8\" class=\"col_heading level0 col8\" >month</th>\n",
       "      <th id=\"T_2b748_level0_col9\" class=\"col_heading level0 col9\" >date</th>\n",
       "      <th id=\"T_2b748_level0_col10\" class=\"col_heading level0 col10\" >StoreType</th>\n",
       "      <th id=\"T_2b748_level0_col11\" class=\"col_heading level0 col11\" >Assortment</th>\n",
       "      <th id=\"T_2b748_level0_col12\" class=\"col_heading level0 col12\" >CompetitionDistance</th>\n",
       "      <th id=\"T_2b748_level0_col13\" class=\"col_heading level0 col13\" >Promo2</th>\n",
       "    </tr>\n",
       "  </thead>\n",
       "  <tbody>\n",
       "    <tr>\n",
       "      <th id=\"T_2b748_level0_row0\" class=\"row_heading level0 row0\" >Store</th>\n",
       "      <td id=\"T_2b748_row0_col0\" class=\"data row0 col0\" >1.000000</td>\n",
       "      <td id=\"T_2b748_row0_col1\" class=\"data row0 col1\" >0.000343</td>\n",
       "      <td id=\"T_2b748_row0_col2\" class=\"data row0 col2\" >0.005420</td>\n",
       "      <td id=\"T_2b748_row0_col3\" class=\"data row0 col3\" >0.032555</td>\n",
       "      <td id=\"T_2b748_row0_col4\" class=\"data row0 col4\" >-0.000015</td>\n",
       "      <td id=\"T_2b748_row0_col5\" class=\"data row0 col5\" >0.002597</td>\n",
       "      <td id=\"T_2b748_row0_col6\" class=\"data row0 col6\" >0.000526</td>\n",
       "      <td id=\"T_2b748_row0_col7\" class=\"data row0 col7\" >0.000300</td>\n",
       "      <td id=\"T_2b748_row0_col8\" class=\"data row0 col8\" >0.000814</td>\n",
       "      <td id=\"T_2b748_row0_col9\" class=\"data row0 col9\" >0.000079</td>\n",
       "      <td id=\"T_2b748_row0_col10\" class=\"data row0 col10\" >-0.021149</td>\n",
       "      <td id=\"T_2b748_row0_col11\" class=\"data row0 col11\" >0.005733</td>\n",
       "      <td id=\"T_2b748_row0_col12\" class=\"data row0 col12\" >-0.026556</td>\n",
       "      <td id=\"T_2b748_row0_col13\" class=\"data row0 col13\" >0.007728</td>\n",
       "    </tr>\n",
       "    <tr>\n",
       "      <th id=\"T_2b748_level0_row1\" class=\"row_heading level0 row1\" >DayOfWeek</th>\n",
       "      <td id=\"T_2b748_row1_col0\" class=\"data row1 col0\" >0.000343</td>\n",
       "      <td id=\"T_2b748_row1_col1\" class=\"data row1 col1\" >1.000000</td>\n",
       "      <td id=\"T_2b748_row1_col2\" class=\"data row1 col2\" >-0.187965</td>\n",
       "      <td id=\"T_2b748_row1_col3\" class=\"data row1 col3\" >-0.132451</td>\n",
       "      <td id=\"T_2b748_row1_col4\" class=\"data row1 col4\" >-0.289268</td>\n",
       "      <td id=\"T_2b748_row1_col5\" class=\"data row1 col5\" >-0.001958</td>\n",
       "      <td id=\"T_2b748_row1_col6\" class=\"data row1 col6\" >-0.139319</td>\n",
       "      <td id=\"T_2b748_row1_col7\" class=\"data row1 col7\" >0.002099</td>\n",
       "      <td id=\"T_2b748_row1_col8\" class=\"data row1 col8\" >0.005056</td>\n",
       "      <td id=\"T_2b748_row1_col9\" class=\"data row1 col9\" >-0.000949</td>\n",
       "      <td id=\"T_2b748_row1_col10\" class=\"data row1 col10\" >-0.001974</td>\n",
       "      <td id=\"T_2b748_row1_col11\" class=\"data row1 col11\" >0.001215</td>\n",
       "      <td id=\"T_2b748_row1_col12\" class=\"data row1 col12\" >0.001324</td>\n",
       "      <td id=\"T_2b748_row1_col13\" class=\"data row1 col13\" >-0.003252</td>\n",
       "    </tr>\n",
       "    <tr>\n",
       "      <th id=\"T_2b748_level0_row2\" class=\"row_heading level0 row2\" >Sales</th>\n",
       "      <td id=\"T_2b748_row2_col0\" class=\"data row2 col0\" >0.005420</td>\n",
       "      <td id=\"T_2b748_row2_col1\" class=\"data row2 col1\" >-0.187965</td>\n",
       "      <td id=\"T_2b748_row2_col2\" class=\"data row2 col2\" >1.000000</td>\n",
       "      <td id=\"T_2b748_row2_col3\" class=\"data row2 col3\" >0.838552</td>\n",
       "      <td id=\"T_2b748_row2_col4\" class=\"data row2 col4\" >0.395374</td>\n",
       "      <td id=\"T_2b748_row2_col5\" class=\"data row2 col5\" >0.013023</td>\n",
       "      <td id=\"T_2b748_row2_col6\" class=\"data row2 col6\" >0.040853</td>\n",
       "      <td id=\"T_2b748_row2_col7\" class=\"data row2 col7\" >0.041560</td>\n",
       "      <td id=\"T_2b748_row2_col8\" class=\"data row2 col8\" >-0.034155</td>\n",
       "      <td id=\"T_2b748_row2_col9\" class=\"data row2 col9\" >-0.014584</td>\n",
       "      <td id=\"T_2b748_row2_col10\" class=\"data row2 col10\" >-0.004116</td>\n",
       "      <td id=\"T_2b748_row2_col11\" class=\"data row2 col11\" >0.114060</td>\n",
       "      <td id=\"T_2b748_row2_col12\" class=\"data row2 col12\" >-0.028243</td>\n",
       "      <td id=\"T_2b748_row2_col13\" class=\"data row2 col13\" >-0.123033</td>\n",
       "    </tr>\n",
       "    <tr>\n",
       "      <th id=\"T_2b748_level0_row3\" class=\"row_heading level0 row3\" >Customers</th>\n",
       "      <td id=\"T_2b748_row3_col0\" class=\"data row3 col0\" >0.032555</td>\n",
       "      <td id=\"T_2b748_row3_col1\" class=\"data row3 col1\" >-0.132451</td>\n",
       "      <td id=\"T_2b748_row3_col2\" class=\"data row3 col2\" >0.838552</td>\n",
       "      <td id=\"T_2b748_row3_col3\" class=\"data row3 col3\" >1.000000</td>\n",
       "      <td id=\"T_2b748_row3_col4\" class=\"data row3 col4\" >0.233272</td>\n",
       "      <td id=\"T_2b748_row3_col5\" class=\"data row3 col5\" >0.028157</td>\n",
       "      <td id=\"T_2b748_row3_col6\" class=\"data row3 col6\" >0.032023</td>\n",
       "      <td id=\"T_2b748_row3_col7\" class=\"data row3 col7\" >0.000344</td>\n",
       "      <td id=\"T_2b748_row3_col8\" class=\"data row3 col8\" >-0.008433</td>\n",
       "      <td id=\"T_2b748_row3_col9\" class=\"data row3 col9\" >-0.016277</td>\n",
       "      <td id=\"T_2b748_row3_col10\" class=\"data row3 col10\" >-0.220918</td>\n",
       "      <td id=\"T_2b748_row3_col11\" class=\"data row3 col11\" >0.002468</td>\n",
       "      <td id=\"T_2b748_row3_col12\" class=\"data row3 col12\" >-0.201199</td>\n",
       "      <td id=\"T_2b748_row3_col13\" class=\"data row3 col13\" >-0.218655</td>\n",
       "    </tr>\n",
       "    <tr>\n",
       "      <th id=\"T_2b748_level0_row4\" class=\"row_heading level0 row4\" >Promo</th>\n",
       "      <td id=\"T_2b748_row4_col0\" class=\"data row4 col0\" >-0.000015</td>\n",
       "      <td id=\"T_2b748_row4_col1\" class=\"data row4 col1\" >-0.289268</td>\n",
       "      <td id=\"T_2b748_row4_col2\" class=\"data row4 col2\" >0.395374</td>\n",
       "      <td id=\"T_2b748_row4_col3\" class=\"data row4 col3\" >0.233272</td>\n",
       "      <td id=\"T_2b748_row4_col4\" class=\"data row4 col4\" >1.000000</td>\n",
       "      <td id=\"T_2b748_row4_col5\" class=\"data row4 col5\" >0.002165</td>\n",
       "      <td id=\"T_2b748_row4_col6\" class=\"data row4 col6\" >0.028971</td>\n",
       "      <td id=\"T_2b748_row4_col7\" class=\"data row4 col7\" >0.023990</td>\n",
       "      <td id=\"T_2b748_row4_col8\" class=\"data row4 col8\" >-0.137610</td>\n",
       "      <td id=\"T_2b748_row4_col9\" class=\"data row4 col9\" >-0.072796</td>\n",
       "      <td id=\"T_2b748_row4_col10\" class=\"data row4 col10\" >0.000324</td>\n",
       "      <td id=\"T_2b748_row4_col11\" class=\"data row4 col11\" >-0.000333</td>\n",
       "      <td id=\"T_2b748_row4_col12\" class=\"data row4 col12\" >-0.000469</td>\n",
       "      <td id=\"T_2b748_row4_col13\" class=\"data row4 col13\" >-0.000316</td>\n",
       "    </tr>\n",
       "    <tr>\n",
       "      <th id=\"T_2b748_level0_row5\" class=\"row_heading level0 row5\" >StateHoliday</th>\n",
       "      <td id=\"T_2b748_row5_col0\" class=\"data row5 col0\" >0.002597</td>\n",
       "      <td id=\"T_2b748_row5_col1\" class=\"data row5 col1\" >-0.001958</td>\n",
       "      <td id=\"T_2b748_row5_col2\" class=\"data row5 col2\" >0.013023</td>\n",
       "      <td id=\"T_2b748_row5_col3\" class=\"data row5 col3\" >0.028157</td>\n",
       "      <td id=\"T_2b748_row5_col4\" class=\"data row5 col4\" >0.002165</td>\n",
       "      <td id=\"T_2b748_row5_col5\" class=\"data row5 col5\" >1.000000</td>\n",
       "      <td id=\"T_2b748_row5_col6\" class=\"data row5 col6\" >0.012593</td>\n",
       "      <td id=\"T_2b748_row5_col7\" class=\"data row5 col7\" >0.002365</td>\n",
       "      <td id=\"T_2b748_row5_col8\" class=\"data row5 col8\" >-0.011098</td>\n",
       "      <td id=\"T_2b748_row5_col9\" class=\"data row5 col9\" >-0.003181</td>\n",
       "      <td id=\"T_2b748_row5_col10\" class=\"data row5 col10\" >-0.004288</td>\n",
       "      <td id=\"T_2b748_row5_col11\" class=\"data row5 col11\" >-0.000371</td>\n",
       "      <td id=\"T_2b748_row5_col12\" class=\"data row5 col12\" >0.001983</td>\n",
       "      <td id=\"T_2b748_row5_col13\" class=\"data row5 col13\" >-0.010308</td>\n",
       "    </tr>\n",
       "    <tr>\n",
       "      <th id=\"T_2b748_level0_row6\" class=\"row_heading level0 row6\" >SchoolHoliday</th>\n",
       "      <td id=\"T_2b748_row6_col0\" class=\"data row6 col0\" >0.000526</td>\n",
       "      <td id=\"T_2b748_row6_col1\" class=\"data row6 col1\" >-0.139319</td>\n",
       "      <td id=\"T_2b748_row6_col2\" class=\"data row6 col2\" >0.040853</td>\n",
       "      <td id=\"T_2b748_row6_col3\" class=\"data row6 col3\" >0.032023</td>\n",
       "      <td id=\"T_2b748_row6_col4\" class=\"data row6 col4\" >0.028971</td>\n",
       "      <td id=\"T_2b748_row6_col5\" class=\"data row6 col5\" >0.012593</td>\n",
       "      <td id=\"T_2b748_row6_col6\" class=\"data row6 col6\" >1.000000</td>\n",
       "      <td id=\"T_2b748_row6_col7\" class=\"data row6 col7\" >-0.038686</td>\n",
       "      <td id=\"T_2b748_row6_col8\" class=\"data row6 col8\" >0.091489</td>\n",
       "      <td id=\"T_2b748_row6_col9\" class=\"data row6 col9\" >0.046215</td>\n",
       "      <td id=\"T_2b748_row6_col10\" class=\"data row6 col10\" >-0.002263</td>\n",
       "      <td id=\"T_2b748_row6_col11\" class=\"data row6 col11\" >-0.002714</td>\n",
       "      <td id=\"T_2b748_row6_col12\" class=\"data row6 col12\" >-0.003609</td>\n",
       "      <td id=\"T_2b748_row6_col13\" class=\"data row6 col13\" >-0.008244</td>\n",
       "    </tr>\n",
       "    <tr>\n",
       "      <th id=\"T_2b748_level0_row7\" class=\"row_heading level0 row7\" >year</th>\n",
       "      <td id=\"T_2b748_row7_col0\" class=\"data row7 col0\" >0.000300</td>\n",
       "      <td id=\"T_2b748_row7_col1\" class=\"data row7 col1\" >0.002099</td>\n",
       "      <td id=\"T_2b748_row7_col2\" class=\"data row7 col2\" >0.041560</td>\n",
       "      <td id=\"T_2b748_row7_col3\" class=\"data row7 col3\" >0.000344</td>\n",
       "      <td id=\"T_2b748_row7_col4\" class=\"data row7 col4\" >0.023990</td>\n",
       "      <td id=\"T_2b748_row7_col5\" class=\"data row7 col5\" >0.002365</td>\n",
       "      <td id=\"T_2b748_row7_col6\" class=\"data row7 col6\" >-0.038686</td>\n",
       "      <td id=\"T_2b748_row7_col7\" class=\"data row7 col7\" >1.000000</td>\n",
       "      <td id=\"T_2b748_row7_col8\" class=\"data row7 col8\" >-0.167202</td>\n",
       "      <td id=\"T_2b748_row7_col9\" class=\"data row7 col9\" >-0.028540</td>\n",
       "      <td id=\"T_2b748_row7_col10\" class=\"data row7 col10\" >-0.001492</td>\n",
       "      <td id=\"T_2b748_row7_col11\" class=\"data row7 col11\" >0.002034</td>\n",
       "      <td id=\"T_2b748_row7_col12\" class=\"data row7 col12\" >0.000239</td>\n",
       "      <td id=\"T_2b748_row7_col13\" class=\"data row7 col13\" >-0.005696</td>\n",
       "    </tr>\n",
       "    <tr>\n",
       "      <th id=\"T_2b748_level0_row8\" class=\"row_heading level0 row8\" >month</th>\n",
       "      <td id=\"T_2b748_row8_col0\" class=\"data row8 col0\" >0.000814</td>\n",
       "      <td id=\"T_2b748_row8_col1\" class=\"data row8 col1\" >0.005056</td>\n",
       "      <td id=\"T_2b748_row8_col2\" class=\"data row8 col2\" >-0.034155</td>\n",
       "      <td id=\"T_2b748_row8_col3\" class=\"data row8 col3\" >-0.008433</td>\n",
       "      <td id=\"T_2b748_row8_col4\" class=\"data row8 col4\" >-0.137610</td>\n",
       "      <td id=\"T_2b748_row8_col5\" class=\"data row8 col5\" >-0.011098</td>\n",
       "      <td id=\"T_2b748_row8_col6\" class=\"data row8 col6\" >0.091489</td>\n",
       "      <td id=\"T_2b748_row8_col7\" class=\"data row8 col7\" >-0.167202</td>\n",
       "      <td id=\"T_2b748_row8_col8\" class=\"data row8 col8\" >1.000000</td>\n",
       "      <td id=\"T_2b748_row8_col9\" class=\"data row8 col9\" >-0.103815</td>\n",
       "      <td id=\"T_2b748_row8_col10\" class=\"data row8 col10\" >-0.004486</td>\n",
       "      <td id=\"T_2b748_row8_col11\" class=\"data row8 col11\" >0.004701</td>\n",
       "      <td id=\"T_2b748_row8_col12\" class=\"data row8 col12\" >0.000472</td>\n",
       "      <td id=\"T_2b748_row8_col13\" class=\"data row8 col13\" >-0.014128</td>\n",
       "    </tr>\n",
       "    <tr>\n",
       "      <th id=\"T_2b748_level0_row9\" class=\"row_heading level0 row9\" >date</th>\n",
       "      <td id=\"T_2b748_row9_col0\" class=\"data row9 col0\" >0.000079</td>\n",
       "      <td id=\"T_2b748_row9_col1\" class=\"data row9 col1\" >-0.000949</td>\n",
       "      <td id=\"T_2b748_row9_col2\" class=\"data row9 col2\" >-0.014584</td>\n",
       "      <td id=\"T_2b748_row9_col3\" class=\"data row9 col3\" >-0.016277</td>\n",
       "      <td id=\"T_2b748_row9_col4\" class=\"data row9 col4\" >-0.072796</td>\n",
       "      <td id=\"T_2b748_row9_col5\" class=\"data row9 col5\" >-0.003181</td>\n",
       "      <td id=\"T_2b748_row9_col6\" class=\"data row9 col6\" >0.046215</td>\n",
       "      <td id=\"T_2b748_row9_col7\" class=\"data row9 col7\" >-0.028540</td>\n",
       "      <td id=\"T_2b748_row9_col8\" class=\"data row9 col8\" >-0.103815</td>\n",
       "      <td id=\"T_2b748_row9_col9\" class=\"data row9 col9\" >1.000000</td>\n",
       "      <td id=\"T_2b748_row9_col10\" class=\"data row9 col10\" >-0.000870</td>\n",
       "      <td id=\"T_2b748_row9_col11\" class=\"data row9 col11\" >0.001441</td>\n",
       "      <td id=\"T_2b748_row9_col12\" class=\"data row9 col12\" >0.000180</td>\n",
       "      <td id=\"T_2b748_row9_col13\" class=\"data row9 col13\" >-0.002929</td>\n",
       "    </tr>\n",
       "    <tr>\n",
       "      <th id=\"T_2b748_level0_row10\" class=\"row_heading level0 row10\" >StoreType</th>\n",
       "      <td id=\"T_2b748_row10_col0\" class=\"data row10 col0\" >-0.021149</td>\n",
       "      <td id=\"T_2b748_row10_col1\" class=\"data row10 col1\" >-0.001974</td>\n",
       "      <td id=\"T_2b748_row10_col2\" class=\"data row10 col2\" >-0.004116</td>\n",
       "      <td id=\"T_2b748_row10_col3\" class=\"data row10 col3\" >-0.220918</td>\n",
       "      <td id=\"T_2b748_row10_col4\" class=\"data row10 col4\" >0.000324</td>\n",
       "      <td id=\"T_2b748_row10_col5\" class=\"data row10 col5\" >-0.004288</td>\n",
       "      <td id=\"T_2b748_row10_col6\" class=\"data row10 col6\" >-0.002263</td>\n",
       "      <td id=\"T_2b748_row10_col7\" class=\"data row10 col7\" >-0.001492</td>\n",
       "      <td id=\"T_2b748_row10_col8\" class=\"data row10 col8\" >-0.004486</td>\n",
       "      <td id=\"T_2b748_row10_col9\" class=\"data row10 col9\" >-0.000870</td>\n",
       "      <td id=\"T_2b748_row10_col10\" class=\"data row10 col10\" >1.000000</td>\n",
       "      <td id=\"T_2b748_row10_col11\" class=\"data row10 col11\" >0.230834</td>\n",
       "      <td id=\"T_2b748_row10_col12\" class=\"data row10 col12\" >0.150559</td>\n",
       "      <td id=\"T_2b748_row10_col13\" class=\"data row10 col13\" >0.089364</td>\n",
       "    </tr>\n",
       "    <tr>\n",
       "      <th id=\"T_2b748_level0_row11\" class=\"row_heading level0 row11\" >Assortment</th>\n",
       "      <td id=\"T_2b748_row11_col0\" class=\"data row11 col0\" >0.005733</td>\n",
       "      <td id=\"T_2b748_row11_col1\" class=\"data row11 col1\" >0.001215</td>\n",
       "      <td id=\"T_2b748_row11_col2\" class=\"data row11 col2\" >0.114060</td>\n",
       "      <td id=\"T_2b748_row11_col3\" class=\"data row11 col3\" >0.002468</td>\n",
       "      <td id=\"T_2b748_row11_col4\" class=\"data row11 col4\" >-0.000333</td>\n",
       "      <td id=\"T_2b748_row11_col5\" class=\"data row11 col5\" >-0.000371</td>\n",
       "      <td id=\"T_2b748_row11_col6\" class=\"data row11 col6\" >-0.002714</td>\n",
       "      <td id=\"T_2b748_row11_col7\" class=\"data row11 col7\" >0.002034</td>\n",
       "      <td id=\"T_2b748_row11_col8\" class=\"data row11 col8\" >0.004701</td>\n",
       "      <td id=\"T_2b748_row11_col9\" class=\"data row11 col9\" >0.001441</td>\n",
       "      <td id=\"T_2b748_row11_col10\" class=\"data row11 col10\" >0.230834</td>\n",
       "      <td id=\"T_2b748_row11_col11\" class=\"data row11 col11\" >1.000000</td>\n",
       "      <td id=\"T_2b748_row11_col12\" class=\"data row11 col12\" >0.158269</td>\n",
       "      <td id=\"T_2b748_row11_col13\" class=\"data row11 col13\" >0.008477</td>\n",
       "    </tr>\n",
       "    <tr>\n",
       "      <th id=\"T_2b748_level0_row12\" class=\"row_heading level0 row12\" >CompetitionDistance</th>\n",
       "      <td id=\"T_2b748_row12_col0\" class=\"data row12 col0\" >-0.026556</td>\n",
       "      <td id=\"T_2b748_row12_col1\" class=\"data row12 col1\" >0.001324</td>\n",
       "      <td id=\"T_2b748_row12_col2\" class=\"data row12 col2\" >-0.028243</td>\n",
       "      <td id=\"T_2b748_row12_col3\" class=\"data row12 col3\" >-0.201199</td>\n",
       "      <td id=\"T_2b748_row12_col4\" class=\"data row12 col4\" >-0.000469</td>\n",
       "      <td id=\"T_2b748_row12_col5\" class=\"data row12 col5\" >0.001983</td>\n",
       "      <td id=\"T_2b748_row12_col6\" class=\"data row12 col6\" >-0.003609</td>\n",
       "      <td id=\"T_2b748_row12_col7\" class=\"data row12 col7\" >0.000239</td>\n",
       "      <td id=\"T_2b748_row12_col8\" class=\"data row12 col8\" >0.000472</td>\n",
       "      <td id=\"T_2b748_row12_col9\" class=\"data row12 col9\" >0.000180</td>\n",
       "      <td id=\"T_2b748_row12_col10\" class=\"data row12 col10\" >0.150559</td>\n",
       "      <td id=\"T_2b748_row12_col11\" class=\"data row12 col11\" >0.158269</td>\n",
       "      <td id=\"T_2b748_row12_col12\" class=\"data row12 col12\" >1.000000</td>\n",
       "      <td id=\"T_2b748_row12_col13\" class=\"data row12 col13\" >-0.097049</td>\n",
       "    </tr>\n",
       "    <tr>\n",
       "      <th id=\"T_2b748_level0_row13\" class=\"row_heading level0 row13\" >Promo2</th>\n",
       "      <td id=\"T_2b748_row13_col0\" class=\"data row13 col0\" >0.007728</td>\n",
       "      <td id=\"T_2b748_row13_col1\" class=\"data row13 col1\" >-0.003252</td>\n",
       "      <td id=\"T_2b748_row13_col2\" class=\"data row13 col2\" >-0.123033</td>\n",
       "      <td id=\"T_2b748_row13_col3\" class=\"data row13 col3\" >-0.218655</td>\n",
       "      <td id=\"T_2b748_row13_col4\" class=\"data row13 col4\" >-0.000316</td>\n",
       "      <td id=\"T_2b748_row13_col5\" class=\"data row13 col5\" >-0.010308</td>\n",
       "      <td id=\"T_2b748_row13_col6\" class=\"data row13 col6\" >-0.008244</td>\n",
       "      <td id=\"T_2b748_row13_col7\" class=\"data row13 col7\" >-0.005696</td>\n",
       "      <td id=\"T_2b748_row13_col8\" class=\"data row13 col8\" >-0.014128</td>\n",
       "      <td id=\"T_2b748_row13_col9\" class=\"data row13 col9\" >-0.002929</td>\n",
       "      <td id=\"T_2b748_row13_col10\" class=\"data row13 col10\" >0.089364</td>\n",
       "      <td id=\"T_2b748_row13_col11\" class=\"data row13 col11\" >0.008477</td>\n",
       "      <td id=\"T_2b748_row13_col12\" class=\"data row13 col12\" >-0.097049</td>\n",
       "      <td id=\"T_2b748_row13_col13\" class=\"data row13 col13\" >1.000000</td>\n",
       "    </tr>\n",
       "  </tbody>\n",
       "</table>\n"
      ],
      "text/plain": [
       "<pandas.io.formats.style.Styler at 0x19f904b5730>"
      ]
     },
     "execution_count": 67,
     "metadata": {},
     "output_type": "execute_result"
    }
   ],
   "source": [
    "matrix=dataframe_new.corr()\n",
    "matrix.style.background_gradient(cmap='YlOrBr')"
   ]
  },
  {
   "cell_type": "code",
   "execution_count": 68,
   "id": "bd60f66f",
   "metadata": {},
   "outputs": [
    {
     "data": {
      "text/plain": [
       "<AxesSubplot: xlabel='year', ylabel='count'>"
      ]
     },
     "execution_count": 68,
     "metadata": {},
     "output_type": "execute_result"
    },
    {
     "data": {
      "image/png": "[encoded data removed]",
      "text/plain": [
       "<Figure size 640x480 with 1 Axes>"
      ]
     },
     "metadata": {},
     "output_type": "display_data"
    }
   ],
   "source": [
    "sns.countplot(data=dataframe_new, x=\"year\")"
   ]
  },
  {
   "cell_type": "code",
   "execution_count": 69,
   "id": "7ecb3cb7",
   "metadata": {},
   "outputs": [
    {
     "data": {
      "text/plain": [
       "<AxesSubplot: xlabel='DayOfWeek', ylabel='count'>"
      ]
     },
     "execution_count": 69,
     "metadata": {},
     "output_type": "execute_result"
    },
    {
     "data": {
      "image/png": "[encoded data removed]",
      "text/plain": [
       "<Figure size 640x480 with 1 Axes>"
      ]
     },
     "metadata": {},
     "output_type": "display_data"
    }
   ],
   "source": [
    "sns.countplot(data=dataframe_new, x=\"DayOfWeek\")"
   ]
  },
  {
   "cell_type": "code",
   "execution_count": 70,
   "id": "038174ae",
   "metadata": {},
   "outputs": [
    {
     "data": {
      "image/png": "[encoded data removed]",
      "text/plain": [
       "<Figure size 640x480 with 1 Axes>"
      ]
     },
     "metadata": {},
     "output_type": "display_data"
    }
   ],
   "source": [
    "sns.barplot(dataframe_new['DayOfWeek'],dataframe_new['Sales'],hue=dataframe_new['year'])\n",
    "plt.show()"
   ]
  },
  {
   "cell_type": "code",
   "execution_count": 76,
   "id": "e4ec2129",
   "metadata": {},
   "outputs": [
    {
     "data": {
      "text/plain": [
       "<AxesSubplot: xlabel='date'>"
      ]
     },
     "execution_count": 76,
     "metadata": {},
     "output_type": "execute_result"
    },
    {
     "data": {
      "image/png": "[encoded data removed]",
      "text/plain": [
       "<Figure size 640x480 with 1 Axes>"
      ]
     },
     "metadata": {},
     "output_type": "display_data"
    }
   ],
   "source": [
    "sns.distplot(dataframe_new['date'],color='blue',kde=False,bins=10)"
   ]
  },
  {
   "cell_type": "code",
   "execution_count": 85,
   "id": "ff60f8df",
   "metadata": {},
   "outputs": [
    {
     "data": {
      "text/plain": [
       "<AxesSubplot: xlabel='StoreType', ylabel='count'>"
      ]
     },
     "execution_count": 85,
     "metadata": {},
     "output_type": "execute_result"
    },
    {
     "data": {
      "image/png": "[encoded data removed]",
      "text/plain": [
       "<Figure size 640x480 with 1 Axes>"
      ]
     },
     "metadata": {},
     "output_type": "display_data"
    }
   ],
   "source": [
    "sns.countplot(data=dataframe_new,x='StoreType')"
   ]
  },
  {
   "cell_type": "code",
   "execution_count": 86,
   "id": "56e3539d",
   "metadata": {},
   "outputs": [
    {
     "data": {
      "text/plain": [
       "<AxesSubplot: xlabel='Assortment', ylabel='count'>"
      ]
     },
     "execution_count": 86,
     "metadata": {},
     "output_type": "execute_result"
    },
    {
     "data": {
      "image/png": "[encoded data removed]",
      "text/plain": [
       "<Figure size 640x480 with 1 Axes>"
      ]
     },
     "metadata": {},
     "output_type": "display_data"
    }
   ],
   "source": [
    "sns.countplot(data=dataframe_new,x='Assortment')"
   ]
  },
  {
   "cell_type": "code",
   "execution_count": 79,
   "id": "c86e9348",
   "metadata": {},
   "outputs": [
    {
     "data": {
      "image/png": "[encoded data removed]",
      "text/plain": [
       "<Figure size 640x480 with 1 Axes>"
      ]
     },
     "metadata": {},
     "output_type": "display_data"
    }
   ],
   "source": [
    "sns.barplot(dataframe_new['StoreType'],dataframe_new['Sales'],hue=dataframe_new['year'])\n",
    "plt.show()"
   ]
  },
  {
   "cell_type": "code",
   "execution_count": 82,
   "id": "ac59b4ae",
   "metadata": {},
   "outputs": [
    {
     "data": {
      "image/png": "[encoded data removed]",
      "text/plain": [
       "<Figure size 640x480 with 1 Axes>"
      ]
     },
     "metadata": {},
     "output_type": "display_data"
    }
   ],
   "source": [
    "sns.barplot(dataframe_new['DayOfWeek'],dataframe_new['Sales'],hue=dataframe_new['StoreType'])\n",
    "plt.show()"
   ]
  },
  {
   "cell_type": "code",
   "execution_count": 88,
   "id": "bea74598",
   "metadata": {},
   "outputs": [
    {
     "data": {
      "image/png": "[encoded data removed]",
      "text/plain": [
       "<Figure size 640x480 with 1 Axes>"
      ]
     },
     "metadata": {},
     "output_type": "display_data"
    }
   ],
   "source": [
    "sns.barplot(dataframe_new['DayOfWeek'],dataframe_new['Customers'],hue=dataframe_new['StoreType'])\n",
    "plt.show()"
   ]
  },
  {
   "cell_type": "code",
   "execution_count": 89,
   "id": "eabf752a",
   "metadata": {},
   "outputs": [],
   "source": [
    "X = dataframe_new.drop(['Sales','Store'] , axis = 1)\n",
    "y= dataframe_new.Sales"
   ]
  },
  {
   "cell_type": "code",
   "execution_count": 90,
   "id": "23d7b485",
   "metadata": {},
   "outputs": [
    {
     "data": {
      "text/html": [
       "<div>\n",
       "<style scoped>\n",
       "    .dataframe tbody tr th:only-of-type {\n",
       "        vertical-align: middle;\n",
       "    }\n",
       "\n",
       "    .dataframe tbody tr th {\n",
       "        vertical-align: top;\n",
       "    }\n",
       "\n",
       "    .dataframe thead th {\n",
       "        text-align: right;\n",
       "    }\n",
       "</style>\n",
       "<table border=\"1\" class=\"dataframe\">\n",
       "  <thead>\n",
       "    <tr style=\"text-align: right;\">\n",
       "      <th></th>\n",
       "      <th>DayOfWeek</th>\n",
       "      <th>Customers</th>\n",
       "      <th>Promo</th>\n",
       "      <th>StateHoliday</th>\n",
       "      <th>SchoolHoliday</th>\n",
       "      <th>year</th>\n",
       "      <th>month</th>\n",
       "      <th>date</th>\n",
       "      <th>StoreType</th>\n",
       "      <th>Assortment</th>\n",
       "      <th>CompetitionDistance</th>\n",
       "      <th>Promo2</th>\n",
       "    </tr>\n",
       "  </thead>\n",
       "  <tbody>\n",
       "    <tr>\n",
       "      <th>0</th>\n",
       "      <td>5</td>\n",
       "      <td>555.0</td>\n",
       "      <td>1</td>\n",
       "      <td>0</td>\n",
       "      <td>1</td>\n",
       "      <td>2015</td>\n",
       "      <td>7</td>\n",
       "      <td>31</td>\n",
       "      <td>2</td>\n",
       "      <td>0</td>\n",
       "      <td>1270.0</td>\n",
       "      <td>0</td>\n",
       "    </tr>\n",
       "    <tr>\n",
       "      <th>1</th>\n",
       "      <td>5</td>\n",
       "      <td>625.0</td>\n",
       "      <td>1</td>\n",
       "      <td>0</td>\n",
       "      <td>1</td>\n",
       "      <td>2015</td>\n",
       "      <td>7</td>\n",
       "      <td>31</td>\n",
       "      <td>0</td>\n",
       "      <td>0</td>\n",
       "      <td>570.0</td>\n",
       "      <td>1</td>\n",
       "    </tr>\n",
       "    <tr>\n",
       "      <th>2</th>\n",
       "      <td>5</td>\n",
       "      <td>821.0</td>\n",
       "      <td>1</td>\n",
       "      <td>0</td>\n",
       "      <td>1</td>\n",
       "      <td>2015</td>\n",
       "      <td>7</td>\n",
       "      <td>31</td>\n",
       "      <td>0</td>\n",
       "      <td>0</td>\n",
       "      <td>14130.0</td>\n",
       "      <td>1</td>\n",
       "    </tr>\n",
       "    <tr>\n",
       "      <th>3</th>\n",
       "      <td>5</td>\n",
       "      <td>1485.0</td>\n",
       "      <td>1</td>\n",
       "      <td>0</td>\n",
       "      <td>1</td>\n",
       "      <td>2015</td>\n",
       "      <td>7</td>\n",
       "      <td>31</td>\n",
       "      <td>2</td>\n",
       "      <td>2</td>\n",
       "      <td>620.0</td>\n",
       "      <td>0</td>\n",
       "    </tr>\n",
       "    <tr>\n",
       "      <th>4</th>\n",
       "      <td>5</td>\n",
       "      <td>559.0</td>\n",
       "      <td>1</td>\n",
       "      <td>0</td>\n",
       "      <td>1</td>\n",
       "      <td>2015</td>\n",
       "      <td>7</td>\n",
       "      <td>31</td>\n",
       "      <td>0</td>\n",
       "      <td>0</td>\n",
       "      <td>16135.0</td>\n",
       "      <td>0</td>\n",
       "    </tr>\n",
       "    <tr>\n",
       "      <th>...</th>\n",
       "      <td>...</td>\n",
       "      <td>...</td>\n",
       "      <td>...</td>\n",
       "      <td>...</td>\n",
       "      <td>...</td>\n",
       "      <td>...</td>\n",
       "      <td>...</td>\n",
       "      <td>...</td>\n",
       "      <td>...</td>\n",
       "      <td>...</td>\n",
       "      <td>...</td>\n",
       "      <td>...</td>\n",
       "    </tr>\n",
       "    <tr>\n",
       "      <th>1016776</th>\n",
       "      <td>2</td>\n",
       "      <td>566.0</td>\n",
       "      <td>0</td>\n",
       "      <td>1</td>\n",
       "      <td>1</td>\n",
       "      <td>2013</td>\n",
       "      <td>1</td>\n",
       "      <td>1</td>\n",
       "      <td>1</td>\n",
       "      <td>0</td>\n",
       "      <td>150.0</td>\n",
       "      <td>0</td>\n",
       "    </tr>\n",
       "    <tr>\n",
       "      <th>1016827</th>\n",
       "      <td>2</td>\n",
       "      <td>1485.0</td>\n",
       "      <td>0</td>\n",
       "      <td>1</td>\n",
       "      <td>1</td>\n",
       "      <td>2013</td>\n",
       "      <td>1</td>\n",
       "      <td>1</td>\n",
       "      <td>1</td>\n",
       "      <td>1</td>\n",
       "      <td>860.0</td>\n",
       "      <td>0</td>\n",
       "    </tr>\n",
       "    <tr>\n",
       "      <th>1016863</th>\n",
       "      <td>2</td>\n",
       "      <td>1248.0</td>\n",
       "      <td>0</td>\n",
       "      <td>1</td>\n",
       "      <td>1</td>\n",
       "      <td>2013</td>\n",
       "      <td>1</td>\n",
       "      <td>1</td>\n",
       "      <td>1</td>\n",
       "      <td>1</td>\n",
       "      <td>840.0</td>\n",
       "      <td>1</td>\n",
       "    </tr>\n",
       "    <tr>\n",
       "      <th>1017042</th>\n",
       "      <td>2</td>\n",
       "      <td>1039.0</td>\n",
       "      <td>0</td>\n",
       "      <td>1</td>\n",
       "      <td>1</td>\n",
       "      <td>2013</td>\n",
       "      <td>1</td>\n",
       "      <td>1</td>\n",
       "      <td>1</td>\n",
       "      <td>1</td>\n",
       "      <td>1430.0</td>\n",
       "      <td>0</td>\n",
       "    </tr>\n",
       "    <tr>\n",
       "      <th>1017190</th>\n",
       "      <td>2</td>\n",
       "      <td>1405.0</td>\n",
       "      <td>0</td>\n",
       "      <td>1</td>\n",
       "      <td>1</td>\n",
       "      <td>2013</td>\n",
       "      <td>1</td>\n",
       "      <td>1</td>\n",
       "      <td>1</td>\n",
       "      <td>1</td>\n",
       "      <td>720.0</td>\n",
       "      <td>0</td>\n",
       "    </tr>\n",
       "  </tbody>\n",
       "</table>\n",
       "<p>844338 rows × 12 columns</p>\n",
       "</div>"
      ],
      "text/plain": [
       "         DayOfWeek  Customers  Promo  StateHoliday  SchoolHoliday  year  \\\n",
       "0                5      555.0      1             0              1  2015   \n",
       "1                5      625.0      1             0              1  2015   \n",
       "2                5      821.0      1             0              1  2015   \n",
       "3                5     1485.0      1             0              1  2015   \n",
       "4                5      559.0      1             0              1  2015   \n",
       "...            ...        ...    ...           ...            ...   ...   \n",
       "1016776          2      566.0      0             1              1  2013   \n",
       "1016827          2     1485.0      0             1              1  2013   \n",
       "1016863          2     1248.0      0             1              1  2013   \n",
       "1017042          2     1039.0      0             1              1  2013   \n",
       "1017190          2     1405.0      0             1              1  2013   \n",
       "\n",
       "         month  date  StoreType  Assortment  CompetitionDistance  Promo2  \n",
       "0            7    31          2           0               1270.0       0  \n",
       "1            7    31          0           0                570.0       1  \n",
       "2            7    31          0           0              14130.0       1  \n",
       "3            7    31          2           2                620.0       0  \n",
       "4            7    31          0           0              16135.0       0  \n",
       "...        ...   ...        ...         ...                  ...     ...  \n",
       "1016776      1     1          1           0                150.0       0  \n",
       "1016827      1     1          1           1                860.0       0  \n",
       "1016863      1     1          1           1                840.0       1  \n",
       "1017042      1     1          1           1               1430.0       0  \n",
       "1017190      1     1          1           1                720.0       0  \n",
       "\n",
       "[844338 rows x 12 columns]"
      ]
     },
     "execution_count": 90,
     "metadata": {},
     "output_type": "execute_result"
    }
   ],
   "source": [
    "X"
   ]
  },
  {
   "cell_type": "code",
   "execution_count": 91,
   "id": "2183558f",
   "metadata": {},
   "outputs": [
    {
     "data": {
      "text/plain": [
       "0           5263.0\n",
       "1           6064.0\n",
       "2           8314.0\n",
       "3          13995.0\n",
       "4           4822.0\n",
       "            ...   \n",
       "1016776     3375.0\n",
       "1016827    10765.0\n",
       "1016863     5035.0\n",
       "1017042     4491.0\n",
       "1017190     5961.0\n",
       "Name: Sales, Length: 844338, dtype: float64"
      ]
     },
     "execution_count": 91,
     "metadata": {},
     "output_type": "execute_result"
    }
   ],
   "source": [
    "y"
   ]
  },
  {
   "cell_type": "markdown",
   "id": "db8d4bd4",
   "metadata": {},
   "source": [
    "# Features Scaling"
   ]
  },
  {
   "cell_type": "code",
   "execution_count": 92,
   "id": "f072ff01",
   "metadata": {},
   "outputs": [],
   "source": [
    "from sklearn.preprocessing import StandardScaler\n",
    "scaler = StandardScaler()\n",
    "x_scaler = scaler.fit_transform(X)"
   ]
  },
  {
   "cell_type": "code",
   "execution_count": 93,
   "id": "90354576",
   "metadata": {},
   "outputs": [],
   "source": [
    "x = pd.DataFrame(x_scaler, columns=X.columns[:])"
   ]
  },
  {
   "cell_type": "markdown",
   "id": "85b0528a",
   "metadata": {},
   "source": [
    "# Data spliting into train and test data"
   ]
  },
  {
   "cell_type": "code",
   "execution_count": 94,
   "id": "cc288759",
   "metadata": {},
   "outputs": [],
   "source": [
    "from sklearn.model_selection import train_test_split\n",
    "x_train,x_test,y_train,y_test = train_test_split(x,y,test_size=0.3, random_state=0)"
   ]
  },
  {
   "cell_type": "markdown",
   "id": "23843f36",
   "metadata": {},
   "source": [
    "# Model Building"
   ]
  },
  {
   "cell_type": "code",
   "execution_count": 95,
   "id": "9ae8a4ce",
   "metadata": {},
   "outputs": [],
   "source": [
    "#1. Linear Regression\n",
    "\n",
    "from sklearn.linear_model import LinearRegression\n",
    "lr = LinearRegression()\n",
    "LR=lr.fit(x_train, y_train)"
   ]
  },
  {
   "cell_type": "code",
   "execution_count": 96,
   "id": "e3008568",
   "metadata": {},
   "outputs": [],
   "source": [
    "y_pred_train=LR.predict(x_train)"
   ]
  },
  {
   "cell_type": "code",
   "execution_count": 97,
   "id": "b9320c70",
   "metadata": {},
   "outputs": [
    {
     "name": "stdout",
     "output_type": "stream",
     "text": [
      "TRAIN R2_Score : 0.7985362664222224\n",
      "*****************************\n",
      "TRAIN MAE : 933.3171350718926\n",
      "*****************************\n",
      "TRAIN MAPE : 0.14547690553229875\n"
     ]
    }
   ],
   "source": [
    "from sklearn.metrics import r2_score, mean_absolute_error,mean_absolute_percentage_error\n",
    "print(\"TRAIN R2_Score :\", r2_score(y_train, y_pred_train))\n",
    "print(\"*****************************\")\n",
    "print(\"TRAIN MAE :\", mean_absolute_error(y_train, y_pred_train))\n",
    "print(\"*****************************\")\n",
    "print(\"TRAIN MAPE :\", mean_absolute_percentage_error(y_train, y_pred_train))"
   ]
  },
  {
   "cell_type": "code",
   "execution_count": 98,
   "id": "3a3e84b6",
   "metadata": {},
   "outputs": [],
   "source": [
    "y_pred=LR.predict(x_test)"
   ]
  },
  {
   "cell_type": "code",
   "execution_count": 99,
   "id": "6cbe1804",
   "metadata": {},
   "outputs": [
    {
     "name": "stdout",
     "output_type": "stream",
     "text": [
      "TEST R2_Score : 0.7979288189969203\n",
      "*****************************\n",
      "TEST MAE : 934.1227973744074\n",
      "*****************************\n",
      "TEST MAPE : 0.1458258463925522\n"
     ]
    }
   ],
   "source": [
    "print(\"TEST R2_Score :\", r2_score(y_test, y_pred))\n",
    "print(\"*****************************\")\n",
    "print(\"TEST MAE :\", mean_absolute_error(y_test, y_pred))\n",
    "print(\"*****************************\")\n",
    "print(\"TEST MAPE :\", mean_absolute_percentage_error(y_test, y_pred))"
   ]
  },
  {
   "cell_type": "code",
   "execution_count": 100,
   "id": "6e9ae0f3",
   "metadata": {},
   "outputs": [],
   "source": [
    "#2.Decision Tree Regressor\n",
    "\n",
    "from sklearn.tree import DecisionTreeRegressor\n",
    "Dt= DecisionTreeRegressor()\n",
    "DTREE=Dt.fit(x_train,y_train)"
   ]
  },
  {
   "cell_type": "code",
   "execution_count": 101,
   "id": "fda4b515",
   "metadata": {},
   "outputs": [],
   "source": [
    "y_pred_train=DTREE.predict(x_train)"
   ]
  },
  {
   "cell_type": "code",
   "execution_count": 102,
   "id": "60b0981d",
   "metadata": {},
   "outputs": [
    {
     "name": "stdout",
     "output_type": "stream",
     "text": [
      "TRAIN R2_Score : 0.999794165166463\n",
      "*****************************\n",
      "TRAIN MAE : 1.619866661457529\n",
      "*****************************\n",
      "TRAIN MAPE : 0.0001922278844262706\n"
     ]
    }
   ],
   "source": [
    "print(\"TRAIN R2_Score :\", r2_score(y_train, y_pred_train))\n",
    "print(\"*****************************\")\n",
    "print(\"TRAIN MAE :\", mean_absolute_error(y_train, y_pred_train))\n",
    "print(\"*****************************\")\n",
    "print(\"TRAIN MAPE :\", mean_absolute_percentage_error(y_train, y_pred_train))"
   ]
  },
  {
   "cell_type": "code",
   "execution_count": 103,
   "id": "01864ddf",
   "metadata": {},
   "outputs": [],
   "source": [
    "y_pred=DTREE.predict(x_test)"
   ]
  },
  {
   "cell_type": "code",
   "execution_count": 104,
   "id": "2787c6fe",
   "metadata": {},
   "outputs": [
    {
     "name": "stdout",
     "output_type": "stream",
     "text": [
      "TEST R2_Score : 0.9181880648655901\n",
      "*****************************\n",
      "TEST MAE : 526.5192644730222\n",
      "*****************************\n",
      "TEST MAPE : 0.08056403602589027\n"
     ]
    }
   ],
   "source": [
    "print(\"TEST R2_Score :\", r2_score(y_test, y_pred))\n",
    "print(\"*****************************\")\n",
    "print(\"TEST MAE :\", mean_absolute_error(y_test, y_pred))\n",
    "print(\"*****************************\")\n",
    "print(\"TEST MAPE :\", mean_absolute_percentage_error(y_test, y_pred))"
   ]
  },
  {
   "cell_type": "code",
   "execution_count": 105,
   "id": "2223ff4b",
   "metadata": {},
   "outputs": [],
   "source": [
    "#3. Random Forest Regressor\n",
    "\n",
    "from sklearn.ensemble import RandomForestRegressor\n",
    "rf=RandomForestRegressor()\n",
    "Rforest=rf.fit(x_train,y_train)"
   ]
  },
  {
   "cell_type": "code",
   "execution_count": 106,
   "id": "a87d8a22",
   "metadata": {},
   "outputs": [],
   "source": [
    "y_pred_train=Rforest.predict(x_train)"
   ]
  },
  {
   "cell_type": "code",
   "execution_count": 107,
   "id": "4163d7df",
   "metadata": {},
   "outputs": [
    {
     "name": "stdout",
     "output_type": "stream",
     "text": [
      "TRAIN R2_Score : 0.9939707544624091\n",
      "*****************************\n",
      "TRAIN MAE : 144.68681947327084\n",
      "*****************************\n",
      "TRAIN MAPE : 0.02206216299052655\n"
     ]
    }
   ],
   "source": [
    "print(\"TRAIN R2_Score :\", r2_score(y_train, y_pred_train))\n",
    "print(\"*****************************\")\n",
    "print(\"TRAIN MAE :\", mean_absolute_error(y_train, y_pred_train))\n",
    "print(\"*****************************\")\n",
    "print(\"TRAIN MAPE :\", mean_absolute_percentage_error(y_train, y_pred_train))"
   ]
  },
  {
   "cell_type": "code",
   "execution_count": 108,
   "id": "6d613970",
   "metadata": {},
   "outputs": [],
   "source": [
    "y_pred=Rforest.predict(x_test)"
   ]
  },
  {
   "cell_type": "code",
   "execution_count": 109,
   "id": "34f14921",
   "metadata": {},
   "outputs": [
    {
     "name": "stdout",
     "output_type": "stream",
     "text": [
      "TEST R2_Score : 0.9580839915159546\n",
      "*****************************\n",
      "TEST MAE : 386.9939612462688\n",
      "*****************************\n",
      "TEST MAPE : 0.059168284340199155\n"
     ]
    }
   ],
   "source": [
    "print(\"TEST R2_Score :\", r2_score(y_test, y_pred))\n",
    "print(\"*****************************\")\n",
    "print(\"TEST MAE :\", mean_absolute_error(y_test, y_pred))\n",
    "print(\"*****************************\")\n",
    "print(\"TEST MAPE :\", mean_absolute_percentage_error(y_test, y_pred))"
   ]
  },
  {
   "cell_type": "markdown",
   "id": "4a22ef6a",
   "metadata": {},
   "source": [
    "# Feature importance in sales prediction"
   ]
  },
  {
   "cell_type": "code",
   "execution_count": 110,
   "id": "9bdabb6b",
   "metadata": {},
   "outputs": [
    {
     "data": {
      "image/png": "[encoded data removed]",
      "text/plain": [
       "<Figure size 1500x500 with 1 Axes>"
      ]
     },
     "metadata": {},
     "output_type": "display_data"
    }
   ],
   "source": [
    "feat_imp = pd.Series(Rforest.feature_importances_, list(x_train)).sort_values(ascending=False)\n",
    "fig = plt.figure(figsize=(15, 5))\n",
    "feat_imp.plot(kind='bar', title='Name of Important Features used in Random Forest',color='red')\n",
    "plt.ylabel('Score of Important Features')\n",
    "plt.grid()\n",
    "plt.show()"
   ]
  },
  {
   "cell_type": "code",
   "execution_count": null,
   "id": "4238d576",
   "metadata": {},
   "outputs": [],
   "source": []
  },
  {
   "cell_type": "code",
   "execution_count": null,
   "id": "37f2d4fe",
   "metadata": {},
   "outputs": [],
   "source": []
  }
 ],
 "metadata": {
  "kernelspec": {
   "display_name": "Python 3 (ipykernel)",
   "language": "python",
   "name": "python3"
  },
  "language_info": {
   "codemirror_mode": {
    "name": "ipython",
    "version": 3
   },
   "file_extension": ".py",
   "mimetype": "text/x-python",
   "name": "python",
   "nbconvert_exporter": "python",
   "pygments_lexer": "ipython3",
   "version": "3.9.13"
  }
 },
 "nbformat": 4,
 "nbformat_minor": 5
}
